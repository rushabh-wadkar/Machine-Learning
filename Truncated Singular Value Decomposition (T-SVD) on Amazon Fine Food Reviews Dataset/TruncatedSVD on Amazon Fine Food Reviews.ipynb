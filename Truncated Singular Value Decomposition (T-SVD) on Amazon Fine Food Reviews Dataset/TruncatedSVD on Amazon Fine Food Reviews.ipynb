{
 "cells": [
  {
   "cell_type": "markdown",
   "metadata": {},
   "source": [
    "# Amazon Fine Food Reviews Analysis\n",
    "\n",
    "\n",
    "Data Source: https://www.kaggle.com/snap/amazon-fine-food-reviews <br>\n",
    "\n",
    "EDA: https://nycdatascience.com/blog/student-works/amazon-fine-foods-visualization/\n",
    "\n",
    "\n",
    "The Amazon Fine Food Reviews dataset consists of reviews of fine foods from Amazon.<br>\n",
    "\n",
    "Number of reviews: 568,454<br>\n",
    "Number of users: 256,059<br>\n",
    "Number of products: 74,258<br>\n",
    "Timespan: Oct 1999 - Oct 2012<br>\n",
    "Number of Attributes/Columns in data: 10 \n",
    "\n",
    "Attribute Information:\n",
    "\n",
    "1. Id\n",
    "2. ProductId - unique identifier for the product\n",
    "3. UserId - unqiue identifier for the user\n",
    "4. ProfileName\n",
    "5. HelpfulnessNumerator - number of users who found the review helpful\n",
    "6. HelpfulnessDenominator - number of users who indicated whether they found the review helpful or not\n",
    "7. Score - rating between 1 and 5\n",
    "8. Time - timestamp for the review\n",
    "9. Summary - brief summary of the review\n",
    "10. Text - text of the review\n",
    "\n",
    "\n",
    "#### Objective:\n",
    "Given a review, determine whether the review is positive (rating of 4 or 5) or negative (rating of 1 or 2).\n",
    "\n",
    "<br>\n",
    "[Q] How to determine if a review is positive or negative?<br>\n",
    "<br> \n",
    "[Ans] We could use Score/Rating. A rating of 4 or 5 can be cosnidered as a positive review. A rating of 1 or 2 can be considered as negative one. A review of rating 3 is considered nuetral and such reviews are ignored from our analysis. This is an approximate and proxy way of determining the polarity (positivity/negativity) of a review.\n",
    "\n",
    "\n"
   ]
  },
  {
   "cell_type": "markdown",
   "metadata": {},
   "source": [
    "# [1]. Reading Data"
   ]
  },
  {
   "cell_type": "markdown",
   "metadata": {},
   "source": [
    "## [1.1] Loading the data\n",
    "\n",
    "The dataset is available in two forms\n",
    "1. .csv file\n",
    "2. SQLite Database\n",
    "\n",
    "In order to load the data, We have used the SQLITE dataset as it is easier to query the data and visualise the data efficiently.\n",
    "<br> \n",
    "\n",
    "Here as we only want to get the global sentiment of the recommendations (positive or negative), we will purposefully ignore all Scores equal to 3. If the score is above 3, then the recommendation wil be set to \"positive\". Otherwise, it will be set to \"negative\"."
   ]
  },
  {
   "cell_type": "code",
   "execution_count": 1,
   "metadata": {},
   "outputs": [],
   "source": [
    "%matplotlib inline\n",
    "import warnings\n",
    "warnings.filterwarnings(\"ignore\")\n",
    "\n",
    "\n",
    "import sqlite3\n",
    "import pandas as pd\n",
    "import numpy as np\n",
    "import nltk\n",
    "import string\n",
    "import matplotlib.pyplot as plt\n",
    "import seaborn as sns\n",
    "from sklearn.feature_extraction.text import TfidfTransformer\n",
    "from sklearn.feature_extraction.text import TfidfVectorizer\n",
    "\n",
    "from sklearn.feature_extraction.text import CountVectorizer\n",
    "from sklearn.metrics import confusion_matrix\n",
    "from sklearn import metrics\n",
    "from sklearn.metrics import roc_curve, auc\n",
    "from nltk.stem.porter import PorterStemmer\n",
    "from sklearn.model_selection import train_test_split\n",
    "from sklearn.decomposition import TruncatedSVD\n",
    "from sklearn.cluster import KMeans\n",
    "from sklearn.metrics.pairwise import cosine_similarity\n",
    "from wordcloud import WordCloud, STOPWORDS \n",
    "\n",
    "import re\n",
    "# Tutorial about Python regular expressions: https://pymotw.com/2/re/\n",
    "import string\n",
    "from nltk.corpus import stopwords\n",
    "from nltk.stem import PorterStemmer\n",
    "from nltk.stem.wordnet import WordNetLemmatizer\n",
    "\n",
    "from gensim.models import Word2Vec\n",
    "from gensim.models import KeyedVectors\n",
    "import pickle\n",
    "\n",
    "from tqdm import tqdm\n",
    "import os"
   ]
  },
  {
   "cell_type": "code",
   "execution_count": 2,
   "metadata": {},
   "outputs": [
    {
     "name": "stdout",
     "output_type": "stream",
     "text": [
      "Number of data points in our data (525814, 10)\n"
     ]
    },
    {
     "data": {
      "text/html": [
       "<div>\n",
       "<style scoped>\n",
       "    .dataframe tbody tr th:only-of-type {\n",
       "        vertical-align: middle;\n",
       "    }\n",
       "\n",
       "    .dataframe tbody tr th {\n",
       "        vertical-align: top;\n",
       "    }\n",
       "\n",
       "    .dataframe thead th {\n",
       "        text-align: right;\n",
       "    }\n",
       "</style>\n",
       "<table border=\"1\" class=\"dataframe\">\n",
       "  <thead>\n",
       "    <tr style=\"text-align: right;\">\n",
       "      <th></th>\n",
       "      <th>Id</th>\n",
       "      <th>ProductId</th>\n",
       "      <th>UserId</th>\n",
       "      <th>ProfileName</th>\n",
       "      <th>HelpfulnessNumerator</th>\n",
       "      <th>HelpfulnessDenominator</th>\n",
       "      <th>Score</th>\n",
       "      <th>Time</th>\n",
       "      <th>Summary</th>\n",
       "      <th>Text</th>\n",
       "    </tr>\n",
       "  </thead>\n",
       "  <tbody>\n",
       "    <tr>\n",
       "      <th>0</th>\n",
       "      <td>1</td>\n",
       "      <td>B001E4KFG0</td>\n",
       "      <td>A3SGXH7AUHU8GW</td>\n",
       "      <td>delmartian</td>\n",
       "      <td>1</td>\n",
       "      <td>1</td>\n",
       "      <td>1</td>\n",
       "      <td>1303862400</td>\n",
       "      <td>Good Quality Dog Food</td>\n",
       "      <td>I have bought several of the Vitality canned d...</td>\n",
       "    </tr>\n",
       "    <tr>\n",
       "      <th>1</th>\n",
       "      <td>2</td>\n",
       "      <td>B00813GRG4</td>\n",
       "      <td>A1D87F6ZCVE5NK</td>\n",
       "      <td>dll pa</td>\n",
       "      <td>0</td>\n",
       "      <td>0</td>\n",
       "      <td>0</td>\n",
       "      <td>1346976000</td>\n",
       "      <td>Not as Advertised</td>\n",
       "      <td>Product arrived labeled as Jumbo Salted Peanut...</td>\n",
       "    </tr>\n",
       "    <tr>\n",
       "      <th>2</th>\n",
       "      <td>3</td>\n",
       "      <td>B000LQOCH0</td>\n",
       "      <td>ABXLMWJIXXAIN</td>\n",
       "      <td>Natalia Corres \"Natalia Corres\"</td>\n",
       "      <td>1</td>\n",
       "      <td>1</td>\n",
       "      <td>1</td>\n",
       "      <td>1219017600</td>\n",
       "      <td>\"Delight\" says it all</td>\n",
       "      <td>This is a confection that has been around a fe...</td>\n",
       "    </tr>\n",
       "  </tbody>\n",
       "</table>\n",
       "</div>"
      ],
      "text/plain": [
       "   Id                        ...                                                                       Text\n",
       "0   1                        ...                          I have bought several of the Vitality canned d...\n",
       "1   2                        ...                          Product arrived labeled as Jumbo Salted Peanut...\n",
       "2   3                        ...                          This is a confection that has been around a fe...\n",
       "\n",
       "[3 rows x 10 columns]"
      ]
     },
     "execution_count": 2,
     "metadata": {},
     "output_type": "execute_result"
    }
   ],
   "source": [
    "# using SQLite Table to read data.\n",
    "con = sqlite3.connect('../input/database.sqlite') \n",
    "\n",
    "# filtering only positive and negative reviews i.e. \n",
    "# not taking into consideration those reviews with Score=3\n",
    "# SELECT * FROM Reviews WHERE Score != 3 LIMIT 500000, will give top 500000 data points\n",
    "# you can change the number to any other number based on your computing power\n",
    "\n",
    "# filtered_data = pd.read_sql_query(\"\"\" SELECT * FROM Reviews WHERE Score != 3 LIMIT 500000\"\"\", con) \n",
    "# for tsne assignment you can take 5k data points\n",
    "\n",
    "filtered_data = pd.read_sql_query(\"\"\" SELECT * FROM Reviews WHERE Score != 3\"\"\", con) \n",
    "\n",
    "# Give reviews with Score>3 a positive rating(1), and reviews with a score<3 a negative rating(0).\n",
    "def partition(x):\n",
    "    if x < 3:\n",
    "        return 0\n",
    "    return 1\n",
    "\n",
    "#changing reviews with score less than 3 to be positive and vice-versa\n",
    "actualScore = filtered_data['Score']\n",
    "positiveNegative = actualScore.map(partition) \n",
    "filtered_data['Score'] = positiveNegative\n",
    "print(\"Number of data points in our data\", filtered_data.shape)\n",
    "filtered_data.head(3)"
   ]
  },
  {
   "cell_type": "code",
   "execution_count": 3,
   "metadata": {},
   "outputs": [],
   "source": [
    "display = pd.read_sql_query(\"\"\"\n",
    "SELECT UserId, ProductId, ProfileName, Time, Score, Text, COUNT(*)\n",
    "FROM Reviews\n",
    "GROUP BY UserId\n",
    "HAVING COUNT(*)>1\n",
    "\"\"\", con)"
   ]
  },
  {
   "cell_type": "code",
   "execution_count": 4,
   "metadata": {
    "scrolled": true
   },
   "outputs": [
    {
     "name": "stdout",
     "output_type": "stream",
     "text": [
      "(80668, 7)\n"
     ]
    },
    {
     "data": {
      "text/html": [
       "<div>\n",
       "<style scoped>\n",
       "    .dataframe tbody tr th:only-of-type {\n",
       "        vertical-align: middle;\n",
       "    }\n",
       "\n",
       "    .dataframe tbody tr th {\n",
       "        vertical-align: top;\n",
       "    }\n",
       "\n",
       "    .dataframe thead th {\n",
       "        text-align: right;\n",
       "    }\n",
       "</style>\n",
       "<table border=\"1\" class=\"dataframe\">\n",
       "  <thead>\n",
       "    <tr style=\"text-align: right;\">\n",
       "      <th></th>\n",
       "      <th>UserId</th>\n",
       "      <th>ProductId</th>\n",
       "      <th>ProfileName</th>\n",
       "      <th>Time</th>\n",
       "      <th>Score</th>\n",
       "      <th>Text</th>\n",
       "      <th>COUNT(*)</th>\n",
       "    </tr>\n",
       "  </thead>\n",
       "  <tbody>\n",
       "    <tr>\n",
       "      <th>0</th>\n",
       "      <td>#oc-R115TNMSPFT9I7</td>\n",
       "      <td>B005ZBZLT4</td>\n",
       "      <td>Breyton</td>\n",
       "      <td>1331510400</td>\n",
       "      <td>2</td>\n",
       "      <td>Overall its just OK when considering the price...</td>\n",
       "      <td>2</td>\n",
       "    </tr>\n",
       "    <tr>\n",
       "      <th>1</th>\n",
       "      <td>#oc-R11D9D7SHXIJB9</td>\n",
       "      <td>B005HG9ESG</td>\n",
       "      <td>Louis E. Emory \"hoppy\"</td>\n",
       "      <td>1342396800</td>\n",
       "      <td>5</td>\n",
       "      <td>My wife has recurring extreme muscle spasms, u...</td>\n",
       "      <td>3</td>\n",
       "    </tr>\n",
       "    <tr>\n",
       "      <th>2</th>\n",
       "      <td>#oc-R11DNU2NBKQ23Z</td>\n",
       "      <td>B005ZBZLT4</td>\n",
       "      <td>Kim Cieszykowski</td>\n",
       "      <td>1348531200</td>\n",
       "      <td>1</td>\n",
       "      <td>This coffee is horrible and unfortunately not ...</td>\n",
       "      <td>2</td>\n",
       "    </tr>\n",
       "    <tr>\n",
       "      <th>3</th>\n",
       "      <td>#oc-R11O5J5ZVQE25C</td>\n",
       "      <td>B005HG9ESG</td>\n",
       "      <td>Penguin Chick</td>\n",
       "      <td>1346889600</td>\n",
       "      <td>5</td>\n",
       "      <td>This will be the bottle that you grab from the...</td>\n",
       "      <td>3</td>\n",
       "    </tr>\n",
       "    <tr>\n",
       "      <th>4</th>\n",
       "      <td>#oc-R12KPBODL2B5ZD</td>\n",
       "      <td>B007OSBEV0</td>\n",
       "      <td>Christopher P. Presta</td>\n",
       "      <td>1348617600</td>\n",
       "      <td>1</td>\n",
       "      <td>I didnt like this coffee. Instead of telling y...</td>\n",
       "      <td>2</td>\n",
       "    </tr>\n",
       "  </tbody>\n",
       "</table>\n",
       "</div>"
      ],
      "text/plain": [
       "               UserId   ...    COUNT(*)\n",
       "0  #oc-R115TNMSPFT9I7   ...           2\n",
       "1  #oc-R11D9D7SHXIJB9   ...           3\n",
       "2  #oc-R11DNU2NBKQ23Z   ...           2\n",
       "3  #oc-R11O5J5ZVQE25C   ...           3\n",
       "4  #oc-R12KPBODL2B5ZD   ...           2\n",
       "\n",
       "[5 rows x 7 columns]"
      ]
     },
     "execution_count": 4,
     "metadata": {},
     "output_type": "execute_result"
    }
   ],
   "source": [
    "print(display.shape)\n",
    "display.head()"
   ]
  },
  {
   "cell_type": "code",
   "execution_count": 5,
   "metadata": {},
   "outputs": [
    {
     "data": {
      "text/html": [
       "<div>\n",
       "<style scoped>\n",
       "    .dataframe tbody tr th:only-of-type {\n",
       "        vertical-align: middle;\n",
       "    }\n",
       "\n",
       "    .dataframe tbody tr th {\n",
       "        vertical-align: top;\n",
       "    }\n",
       "\n",
       "    .dataframe thead th {\n",
       "        text-align: right;\n",
       "    }\n",
       "</style>\n",
       "<table border=\"1\" class=\"dataframe\">\n",
       "  <thead>\n",
       "    <tr style=\"text-align: right;\">\n",
       "      <th></th>\n",
       "      <th>UserId</th>\n",
       "      <th>ProductId</th>\n",
       "      <th>ProfileName</th>\n",
       "      <th>Time</th>\n",
       "      <th>Score</th>\n",
       "      <th>Text</th>\n",
       "      <th>COUNT(*)</th>\n",
       "    </tr>\n",
       "  </thead>\n",
       "  <tbody>\n",
       "    <tr>\n",
       "      <th>80638</th>\n",
       "      <td>AZY10LLTJ71NX</td>\n",
       "      <td>B001ATMQK2</td>\n",
       "      <td>undertheshrine \"undertheshrine\"</td>\n",
       "      <td>1296691200</td>\n",
       "      <td>5</td>\n",
       "      <td>I bought this 6 pack because for the price tha...</td>\n",
       "      <td>5</td>\n",
       "    </tr>\n",
       "  </tbody>\n",
       "</table>\n",
       "</div>"
      ],
      "text/plain": [
       "              UserId   ...    COUNT(*)\n",
       "80638  AZY10LLTJ71NX   ...           5\n",
       "\n",
       "[1 rows x 7 columns]"
      ]
     },
     "execution_count": 5,
     "metadata": {},
     "output_type": "execute_result"
    }
   ],
   "source": [
    "display[display['UserId']=='AZY10LLTJ71NX']"
   ]
  },
  {
   "cell_type": "code",
   "execution_count": 6,
   "metadata": {},
   "outputs": [
    {
     "data": {
      "text/plain": [
       "393063"
      ]
     },
     "execution_count": 6,
     "metadata": {},
     "output_type": "execute_result"
    }
   ],
   "source": [
    "display['COUNT(*)'].sum()"
   ]
  },
  {
   "cell_type": "markdown",
   "metadata": {},
   "source": [
    "#  [2] Exploratory Data Analysis"
   ]
  },
  {
   "cell_type": "markdown",
   "metadata": {},
   "source": [
    "## [2.1] Data Cleaning: Deduplication\n",
    "\n",
    "It is observed (as shown in the table below) that the reviews data had many duplicate entries. Hence it was necessary to remove duplicates in order to get unbiased results for the analysis of the data.  Following is an example:"
   ]
  },
  {
   "cell_type": "code",
   "execution_count": 7,
   "metadata": {
    "scrolled": false
   },
   "outputs": [
    {
     "data": {
      "text/html": [
       "<div>\n",
       "<style scoped>\n",
       "    .dataframe tbody tr th:only-of-type {\n",
       "        vertical-align: middle;\n",
       "    }\n",
       "\n",
       "    .dataframe tbody tr th {\n",
       "        vertical-align: top;\n",
       "    }\n",
       "\n",
       "    .dataframe thead th {\n",
       "        text-align: right;\n",
       "    }\n",
       "</style>\n",
       "<table border=\"1\" class=\"dataframe\">\n",
       "  <thead>\n",
       "    <tr style=\"text-align: right;\">\n",
       "      <th></th>\n",
       "      <th>Id</th>\n",
       "      <th>ProductId</th>\n",
       "      <th>UserId</th>\n",
       "      <th>ProfileName</th>\n",
       "      <th>HelpfulnessNumerator</th>\n",
       "      <th>HelpfulnessDenominator</th>\n",
       "      <th>Score</th>\n",
       "      <th>Time</th>\n",
       "      <th>Summary</th>\n",
       "      <th>Text</th>\n",
       "    </tr>\n",
       "  </thead>\n",
       "  <tbody>\n",
       "    <tr>\n",
       "      <th>0</th>\n",
       "      <td>78445</td>\n",
       "      <td>B000HDL1RQ</td>\n",
       "      <td>AR5J8UI46CURR</td>\n",
       "      <td>Geetha Krishnan</td>\n",
       "      <td>2</td>\n",
       "      <td>2</td>\n",
       "      <td>5</td>\n",
       "      <td>1199577600</td>\n",
       "      <td>LOACKER QUADRATINI VANILLA WAFERS</td>\n",
       "      <td>DELICIOUS WAFERS. I FIND THAT EUROPEAN WAFERS ...</td>\n",
       "    </tr>\n",
       "    <tr>\n",
       "      <th>1</th>\n",
       "      <td>138317</td>\n",
       "      <td>B000HDOPYC</td>\n",
       "      <td>AR5J8UI46CURR</td>\n",
       "      <td>Geetha Krishnan</td>\n",
       "      <td>2</td>\n",
       "      <td>2</td>\n",
       "      <td>5</td>\n",
       "      <td>1199577600</td>\n",
       "      <td>LOACKER QUADRATINI VANILLA WAFERS</td>\n",
       "      <td>DELICIOUS WAFERS. I FIND THAT EUROPEAN WAFERS ...</td>\n",
       "    </tr>\n",
       "    <tr>\n",
       "      <th>2</th>\n",
       "      <td>138277</td>\n",
       "      <td>B000HDOPYM</td>\n",
       "      <td>AR5J8UI46CURR</td>\n",
       "      <td>Geetha Krishnan</td>\n",
       "      <td>2</td>\n",
       "      <td>2</td>\n",
       "      <td>5</td>\n",
       "      <td>1199577600</td>\n",
       "      <td>LOACKER QUADRATINI VANILLA WAFERS</td>\n",
       "      <td>DELICIOUS WAFERS. I FIND THAT EUROPEAN WAFERS ...</td>\n",
       "    </tr>\n",
       "    <tr>\n",
       "      <th>3</th>\n",
       "      <td>73791</td>\n",
       "      <td>B000HDOPZG</td>\n",
       "      <td>AR5J8UI46CURR</td>\n",
       "      <td>Geetha Krishnan</td>\n",
       "      <td>2</td>\n",
       "      <td>2</td>\n",
       "      <td>5</td>\n",
       "      <td>1199577600</td>\n",
       "      <td>LOACKER QUADRATINI VANILLA WAFERS</td>\n",
       "      <td>DELICIOUS WAFERS. I FIND THAT EUROPEAN WAFERS ...</td>\n",
       "    </tr>\n",
       "    <tr>\n",
       "      <th>4</th>\n",
       "      <td>155049</td>\n",
       "      <td>B000PAQ75C</td>\n",
       "      <td>AR5J8UI46CURR</td>\n",
       "      <td>Geetha Krishnan</td>\n",
       "      <td>2</td>\n",
       "      <td>2</td>\n",
       "      <td>5</td>\n",
       "      <td>1199577600</td>\n",
       "      <td>LOACKER QUADRATINI VANILLA WAFERS</td>\n",
       "      <td>DELICIOUS WAFERS. I FIND THAT EUROPEAN WAFERS ...</td>\n",
       "    </tr>\n",
       "  </tbody>\n",
       "</table>\n",
       "</div>"
      ],
      "text/plain": [
       "       Id                        ...                                                                       Text\n",
       "0   78445                        ...                          DELICIOUS WAFERS. I FIND THAT EUROPEAN WAFERS ...\n",
       "1  138317                        ...                          DELICIOUS WAFERS. I FIND THAT EUROPEAN WAFERS ...\n",
       "2  138277                        ...                          DELICIOUS WAFERS. I FIND THAT EUROPEAN WAFERS ...\n",
       "3   73791                        ...                          DELICIOUS WAFERS. I FIND THAT EUROPEAN WAFERS ...\n",
       "4  155049                        ...                          DELICIOUS WAFERS. I FIND THAT EUROPEAN WAFERS ...\n",
       "\n",
       "[5 rows x 10 columns]"
      ]
     },
     "execution_count": 7,
     "metadata": {},
     "output_type": "execute_result"
    }
   ],
   "source": [
    "display= pd.read_sql_query(\"\"\"\n",
    "SELECT *\n",
    "FROM Reviews\n",
    "WHERE Score != 3 AND UserId=\"AR5J8UI46CURR\"\n",
    "ORDER BY ProductID\n",
    "\"\"\", con)\n",
    "display.head()"
   ]
  },
  {
   "cell_type": "markdown",
   "metadata": {},
   "source": [
    "As it can be seen above that same user has multiple reviews with same values for HelpfulnessNumerator, HelpfulnessDenominator, Score, Time, Summary and Text and on doing analysis it was found that <br>\n",
    "<br> \n",
    "ProductId=B000HDOPZG was Loacker Quadratini Vanilla Wafer Cookies, 8.82-Ounce Packages (Pack of 8)<br>\n",
    "<br> \n",
    "ProductId=B000HDL1RQ was Loacker Quadratini Lemon Wafer Cookies, 8.82-Ounce Packages (Pack of 8) and so on<br>\n",
    "\n",
    "It was inferred after analysis that reviews with same parameters other than ProductId belonged to the same product just having different flavour or quantity. Hence in order to reduce redundancy it was decided to eliminate the rows having same parameters.<br>\n",
    "\n",
    "The method used for the same was that we first sort the data according to ProductId and then just keep the first similar product review and delelte the others. for eg. in the above just the review for ProductId=B000HDL1RQ remains. This method ensures that there is only one representative for each product and deduplication without sorting would lead to possibility of different representatives still existing for the same product."
   ]
  },
  {
   "cell_type": "code",
   "execution_count": 8,
   "metadata": {},
   "outputs": [],
   "source": [
    "#Sorting data according to ProductId in ascending order\n",
    "sorted_data=filtered_data.sort_values('ProductId', axis=0, ascending=True, inplace=False, kind='quicksort', na_position='last')"
   ]
  },
  {
   "cell_type": "code",
   "execution_count": 9,
   "metadata": {},
   "outputs": [
    {
     "data": {
      "text/plain": [
       "(364173, 10)"
      ]
     },
     "execution_count": 9,
     "metadata": {},
     "output_type": "execute_result"
    }
   ],
   "source": [
    "#Deduplication of entries\n",
    "final=sorted_data.drop_duplicates(subset={\"UserId\",\"ProfileName\",\"Time\",\"Text\"}, keep='first', inplace=False)\n",
    "final.shape"
   ]
  },
  {
   "cell_type": "code",
   "execution_count": 10,
   "metadata": {},
   "outputs": [
    {
     "data": {
      "text/plain": [
       "69.25890143662969"
      ]
     },
     "execution_count": 10,
     "metadata": {},
     "output_type": "execute_result"
    }
   ],
   "source": [
    "#Checking to see how much % of data still remains\n",
    "(final['Id'].size*1.0)/(filtered_data['Id'].size*1.0)*100"
   ]
  },
  {
   "cell_type": "markdown",
   "metadata": {},
   "source": [
    "<b>Observation:-</b> It was also seen that in two rows given below the value of HelpfulnessNumerator is greater than HelpfulnessDenominator which is not practically possible hence these two rows too are removed from calcualtions"
   ]
  },
  {
   "cell_type": "code",
   "execution_count": 11,
   "metadata": {},
   "outputs": [
    {
     "data": {
      "text/html": [
       "<div>\n",
       "<style scoped>\n",
       "    .dataframe tbody tr th:only-of-type {\n",
       "        vertical-align: middle;\n",
       "    }\n",
       "\n",
       "    .dataframe tbody tr th {\n",
       "        vertical-align: top;\n",
       "    }\n",
       "\n",
       "    .dataframe thead th {\n",
       "        text-align: right;\n",
       "    }\n",
       "</style>\n",
       "<table border=\"1\" class=\"dataframe\">\n",
       "  <thead>\n",
       "    <tr style=\"text-align: right;\">\n",
       "      <th></th>\n",
       "      <th>Id</th>\n",
       "      <th>ProductId</th>\n",
       "      <th>UserId</th>\n",
       "      <th>ProfileName</th>\n",
       "      <th>HelpfulnessNumerator</th>\n",
       "      <th>HelpfulnessDenominator</th>\n",
       "      <th>Score</th>\n",
       "      <th>Time</th>\n",
       "      <th>Summary</th>\n",
       "      <th>Text</th>\n",
       "    </tr>\n",
       "  </thead>\n",
       "  <tbody>\n",
       "    <tr>\n",
       "      <th>0</th>\n",
       "      <td>64422</td>\n",
       "      <td>B000MIDROQ</td>\n",
       "      <td>A161DK06JJMCYF</td>\n",
       "      <td>J. E. Stephens \"Jeanne\"</td>\n",
       "      <td>3</td>\n",
       "      <td>1</td>\n",
       "      <td>5</td>\n",
       "      <td>1224892800</td>\n",
       "      <td>Bought This for My Son at College</td>\n",
       "      <td>My son loves spaghetti so I didn't hesitate or...</td>\n",
       "    </tr>\n",
       "    <tr>\n",
       "      <th>1</th>\n",
       "      <td>44737</td>\n",
       "      <td>B001EQ55RW</td>\n",
       "      <td>A2V0I904FH7ABY</td>\n",
       "      <td>Ram</td>\n",
       "      <td>3</td>\n",
       "      <td>2</td>\n",
       "      <td>4</td>\n",
       "      <td>1212883200</td>\n",
       "      <td>Pure cocoa taste with crunchy almonds inside</td>\n",
       "      <td>It was almost a 'love at first bite' - the per...</td>\n",
       "    </tr>\n",
       "  </tbody>\n",
       "</table>\n",
       "</div>"
      ],
      "text/plain": [
       "      Id                        ...                                                                       Text\n",
       "0  64422                        ...                          My son loves spaghetti so I didn't hesitate or...\n",
       "1  44737                        ...                          It was almost a 'love at first bite' - the per...\n",
       "\n",
       "[2 rows x 10 columns]"
      ]
     },
     "execution_count": 11,
     "metadata": {},
     "output_type": "execute_result"
    }
   ],
   "source": [
    "display= pd.read_sql_query(\"\"\"\n",
    "SELECT *\n",
    "FROM Reviews\n",
    "WHERE Score != 3 AND Id=44737 OR Id=64422\n",
    "ORDER BY ProductID\n",
    "\"\"\", con)\n",
    "\n",
    "display.head()"
   ]
  },
  {
   "cell_type": "code",
   "execution_count": 12,
   "metadata": {},
   "outputs": [],
   "source": [
    "final=final[final.HelpfulnessNumerator<=final.HelpfulnessDenominator]"
   ]
  },
  {
   "cell_type": "code",
   "execution_count": 13,
   "metadata": {},
   "outputs": [
    {
     "name": "stdout",
     "output_type": "stream",
     "text": [
      "(364171, 10)\n"
     ]
    },
    {
     "data": {
      "text/plain": [
       "1    307061\n",
       "0     57110\n",
       "Name: Score, dtype: int64"
      ]
     },
     "execution_count": 13,
     "metadata": {},
     "output_type": "execute_result"
    }
   ],
   "source": [
    "#Before starting the next phase of preprocessing lets see the number of entries left\n",
    "print(final.shape)\n",
    "\n",
    "#How many positive and negative reviews are present in our dataset?\n",
    "final['Score'].value_counts()"
   ]
  },
  {
   "cell_type": "markdown",
   "metadata": {},
   "source": [
    "#  [3] Preprocessing"
   ]
  },
  {
   "cell_type": "markdown",
   "metadata": {},
   "source": [
    "## [3.1].  Preprocessing Review Text\n",
    "\n",
    "Now that we have finished deduplication our data requires some preprocessing before we go on further with analysis and making the prediction model.\n",
    "\n",
    "Hence in the Preprocessing phase we do the following in the order below:-\n",
    "\n",
    "1. Begin by removing the html tags\n",
    "2. Remove any punctuations or limited set of special characters like , or . or # etc.\n",
    "3. Check if the word is made up of english letters and is not alpha-numeric\n",
    "4. Check to see if the length of the word is greater than 2 (as it was researched that there is no adjective in 2-letters)\n",
    "5. Convert the word to lowercase\n",
    "6. Remove Stopwords\n",
    "7. Finally Snowball Stemming the word (it was obsereved to be better than Porter Stemming)<br>\n",
    "\n",
    "After which we collect the words used to describe positive and negative reviews"
   ]
  },
  {
   "cell_type": "code",
   "execution_count": 14,
   "metadata": {},
   "outputs": [
    {
     "name": "stdout",
     "output_type": "stream",
     "text": [
      "this witty little book makes my son laugh at loud. i recite it in the car as we're driving along and he always can sing the refrain. he's learned about whales, India, drooping roses:  i love all the new words this book  introduces and the silliness of it all.  this is a classic book i am  willing to bet my son will STILL be able to recite from memory when he is  in college\n",
      "==================================================\n",
      "I was really looking forward to these pods based on the reviews.  Starbucks is good, but I prefer bolder taste.... imagine my surprise when I ordered 2 boxes - both were expired! One expired back in 2005 for gosh sakes.  I admit that Amazon agreed to credit me for cost plus part of shipping, but geez, 2 years expired!!!  I'm hoping to find local San Diego area shoppe that carries pods so that I can try something different than starbucks.\n",
      "==================================================\n",
      "Great ingredients although, chicken should have been 1st rather than chicken broth, the only thing I do not think belongs in it is Canola oil. Canola or rapeseed is not someting a dog would ever find in nature and if it did find rapeseed in nature and eat it, it would poison them. Today's Food industries have convinced the masses that Canola oil is a safe and even better oil than olive or virgin coconut, facts though say otherwise. Until the late 70's it was poisonous until they figured out a way to fix that. I still like it but it could be better.\n",
      "==================================================\n",
      "Can't do sugar.  Have tried scores of SF Syrups.  NONE of them can touch the excellence of this product.<br /><br />Thick, delicious.  Perfect.  3 ingredients: Water, Maltitol, Natural Maple Flavor.  PERIOD.  No chemicals.  No garbage.<br /><br />Have numerous friends & family members hooked on this stuff.  My husband & son, who do NOT like \"sugar free\" prefer this over major label regular syrup.<br /><br />I use this as my SWEETENER in baking: cheesecakes, white brownies, muffins, pumpkin pies, etc... Unbelievably delicious...<br /><br />Can you tell I like it? :)\n",
      "==================================================\n"
     ]
    }
   ],
   "source": [
    "# printing some random reviews\n",
    "sent_0 = final['Text'].values[0]\n",
    "print(sent_0)\n",
    "print(\"=\"*50)\n",
    "\n",
    "sent_1000 = final['Text'].values[1000]\n",
    "print(sent_1000)\n",
    "print(\"=\"*50)\n",
    "\n",
    "sent_1500 = final['Text'].values[1500]\n",
    "print(sent_1500)\n",
    "print(\"=\"*50)\n",
    "\n",
    "sent_4900 = final['Text'].values[4900]\n",
    "print(sent_4900)\n",
    "print(\"=\"*50)"
   ]
  },
  {
   "cell_type": "code",
   "execution_count": 15,
   "metadata": {},
   "outputs": [
    {
     "name": "stdout",
     "output_type": "stream",
     "text": [
      "this witty little book makes my son laugh at loud. i recite it in the car as we're driving along and he always can sing the refrain. he's learned about whales, India, drooping roses:  i love all the new words this book  introduces and the silliness of it all.  this is a classic book i am  willing to bet my son will STILL be able to recite from memory when he is  in college\n"
     ]
    }
   ],
   "source": [
    "# remove urls from text python: https://stackoverflow.com/a/40823105/4084039\n",
    "sent_0 = re.sub(r\"http\\S+\", \"\", sent_0)\n",
    "sent_1000 = re.sub(r\"http\\S+\", \"\", sent_1000)\n",
    "sent_150 = re.sub(r\"http\\S+\", \"\", sent_1500)\n",
    "sent_4900 = re.sub(r\"http\\S+\", \"\", sent_4900)\n",
    "\n",
    "print(sent_0)"
   ]
  },
  {
   "cell_type": "code",
   "execution_count": 16,
   "metadata": {},
   "outputs": [
    {
     "name": "stdout",
     "output_type": "stream",
     "text": [
      "this witty little book makes my son laugh at loud. i recite it in the car as we're driving along and he always can sing the refrain. he's learned about whales, India, drooping roses:  i love all the new words this book  introduces and the silliness of it all.  this is a classic book i am  willing to bet my son will STILL be able to recite from memory when he is  in college\n",
      "==================================================\n",
      "I was really looking forward to these pods based on the reviews.  Starbucks is good, but I prefer bolder taste.... imagine my surprise when I ordered 2 boxes - both were expired! One expired back in 2005 for gosh sakes.  I admit that Amazon agreed to credit me for cost plus part of shipping, but geez, 2 years expired!!!  I'm hoping to find local San Diego area shoppe that carries pods so that I can try something different than starbucks.\n",
      "==================================================\n",
      "Great ingredients although, chicken should have been 1st rather than chicken broth, the only thing I do not think belongs in it is Canola oil. Canola or rapeseed is not someting a dog would ever find in nature and if it did find rapeseed in nature and eat it, it would poison them. Today's Food industries have convinced the masses that Canola oil is a safe and even better oil than olive or virgin coconut, facts though say otherwise. Until the late 70's it was poisonous until they figured out a way to fix that. I still like it but it could be better.\n",
      "==================================================\n",
      "Can't do sugar.  Have tried scores of SF Syrups.  NONE of them can touch the excellence of this product.Thick, delicious.  Perfect.  3 ingredients: Water, Maltitol, Natural Maple Flavor.  PERIOD.  No chemicals.  No garbage.Have numerous friends & family members hooked on this stuff.  My husband & son, who do NOT like \"sugar free\" prefer this over major label regular syrup.I use this as my SWEETENER in baking: cheesecakes, white brownies, muffins, pumpkin pies, etc... Unbelievably delicious...Can you tell I like it? :)\n"
     ]
    }
   ],
   "source": [
    "# https://stackoverflow.com/questions/16206380/python-beautifulsoup-how-to-remove-all-tags-from-an-element\n",
    "from bs4 import BeautifulSoup\n",
    "\n",
    "soup = BeautifulSoup(sent_0, 'lxml')\n",
    "text = soup.get_text()\n",
    "print(text)\n",
    "print(\"=\"*50)\n",
    "\n",
    "soup = BeautifulSoup(sent_1000, 'lxml')\n",
    "text = soup.get_text()\n",
    "print(text)\n",
    "print(\"=\"*50)\n",
    "\n",
    "soup = BeautifulSoup(sent_1500, 'lxml')\n",
    "text = soup.get_text()\n",
    "print(text)\n",
    "print(\"=\"*50)\n",
    "\n",
    "soup = BeautifulSoup(sent_4900, 'lxml')\n",
    "text = soup.get_text()\n",
    "print(text)"
   ]
  },
  {
   "cell_type": "code",
   "execution_count": 17,
   "metadata": {},
   "outputs": [],
   "source": [
    "# https://stackoverflow.com/a/47091490/4084039\n",
    "import re\n",
    "\n",
    "def decontracted(phrase):\n",
    "    # specific\n",
    "    phrase = re.sub(r\"won't\", \"will not\", phrase)\n",
    "    phrase = re.sub(r\"can\\'t\", \"can not\", phrase)\n",
    "\n",
    "    # general\n",
    "    phrase = re.sub(r\"n\\'t\", \" not\", phrase)\n",
    "    phrase = re.sub(r\"\\'re\", \" are\", phrase)\n",
    "    phrase = re.sub(r\"\\'s\", \" is\", phrase)\n",
    "    phrase = re.sub(r\"\\'d\", \" would\", phrase)\n",
    "    phrase = re.sub(r\"\\'ll\", \" will\", phrase)\n",
    "    phrase = re.sub(r\"\\'t\", \" not\", phrase)\n",
    "    phrase = re.sub(r\"\\'ve\", \" have\", phrase)\n",
    "    phrase = re.sub(r\"\\'m\", \" am\", phrase)\n",
    "    return phrase"
   ]
  },
  {
   "cell_type": "code",
   "execution_count": 18,
   "metadata": {},
   "outputs": [
    {
     "name": "stdout",
     "output_type": "stream",
     "text": [
      "Great ingredients although, chicken should have been 1st rather than chicken broth, the only thing I do not think belongs in it is Canola oil. Canola or rapeseed is not someting a dog would ever find in nature and if it did find rapeseed in nature and eat it, it would poison them. Today is Food industries have convinced the masses that Canola oil is a safe and even better oil than olive or virgin coconut, facts though say otherwise. Until the late 70 is it was poisonous until they figured out a way to fix that. I still like it but it could be better.\n",
      "==================================================\n"
     ]
    }
   ],
   "source": [
    "sent_1500 = decontracted(sent_1500)\n",
    "print(sent_1500)\n",
    "print(\"=\"*50)"
   ]
  },
  {
   "cell_type": "code",
   "execution_count": 19,
   "metadata": {},
   "outputs": [
    {
     "name": "stdout",
     "output_type": "stream",
     "text": [
      "this witty little book makes my son laugh at loud. i recite it in the car as we're driving along and he always can sing the refrain. he's learned about whales, India, drooping roses:  i love all the new words this book  introduces and the silliness of it all.  this is a classic book i am  willing to bet my son will STILL be able to recite from memory when he is  in college\n"
     ]
    }
   ],
   "source": [
    "#remove words with numbers python: https://stackoverflow.com/a/18082370/4084039\n",
    "sent_0 = re.sub(\"\\S*\\d\\S*\", \"\", sent_0).strip()\n",
    "print(sent_0)"
   ]
  },
  {
   "cell_type": "code",
   "execution_count": 20,
   "metadata": {},
   "outputs": [
    {
     "name": "stdout",
     "output_type": "stream",
     "text": [
      "Great ingredients although chicken should have been 1st rather than chicken broth the only thing I do not think belongs in it is Canola oil Canola or rapeseed is not someting a dog would ever find in nature and if it did find rapeseed in nature and eat it it would poison them Today is Food industries have convinced the masses that Canola oil is a safe and even better oil than olive or virgin coconut facts though say otherwise Until the late 70 is it was poisonous until they figured out a way to fix that I still like it but it could be better \n"
     ]
    }
   ],
   "source": [
    "#remove spacial character: https://stackoverflow.com/a/5843547/4084039\n",
    "sent_1500 = re.sub('[^A-Za-z0-9]+', ' ', sent_1500)\n",
    "print(sent_1500)"
   ]
  },
  {
   "cell_type": "code",
   "execution_count": 21,
   "metadata": {},
   "outputs": [],
   "source": [
    "# https://gist.github.com/sebleier/554280\n",
    "# we are removing the words from the stop words list: 'no', 'nor', 'not'\n",
    "# <br /><br /> ==> after the above steps, we are getting \"br br\"\n",
    "# we are including them into stop words list\n",
    "# instead of <br /> if we have <br/> these tags would have revmoved in the 1st step\n",
    "\n",
    "stopwords= set(['br', 'the', 'i', 'me', 'my', 'myself', 'we', 'our', 'ours', 'ourselves', 'you', \"you're\", \"you've\",\\\n",
    "            \"you'll\", \"you'd\", 'your', 'yours', 'yourself', 'yourselves', 'he', 'him', 'his', 'himself', \\\n",
    "            'she', \"she's\", 'her', 'hers', 'herself', 'it', \"it's\", 'its', 'itself', 'they', 'them', 'their',\\\n",
    "            'theirs', 'themselves', 'what', 'which', 'who', 'whom', 'this', 'that', \"that'll\", 'these', 'those', \\\n",
    "            'am', 'is', 'are', 'was', 'were', 'be', 'been', 'being', 'have', 'has', 'had', 'having', 'do', 'does', \\\n",
    "            'did', 'doing', 'a', 'an', 'the', 'and', 'but', 'if', 'or', 'because', 'as', 'until', 'while', 'of', \\\n",
    "            'at', 'by', 'for', 'with', 'about', 'against', 'between', 'into', 'through', 'during', 'before', 'after',\\\n",
    "            'above', 'below', 'to', 'from', 'up', 'down', 'in', 'out', 'on', 'off', 'over', 'under', 'again', 'further',\\\n",
    "            'then', 'once', 'here', 'there', 'when', 'where', 'why', 'how', 'all', 'any', 'both', 'each', 'few', 'more',\\\n",
    "            'most', 'other', 'some', 'such', 'only', 'own', 'same', 'so', 'than', 'too', 'very', \\\n",
    "            's', 't', 'can', 'will', 'just', 'don', \"don't\", 'should', \"should've\", 'now', 'd', 'll', 'm', 'o', 're', \\\n",
    "            've', 'y', 'ain', 'aren', \"aren't\", 'couldn', \"couldn't\", 'didn', \"didn't\", 'doesn', \"doesn't\", 'hadn',\\\n",
    "            \"hadn't\", 'hasn', \"hasn't\", 'haven', \"haven't\", 'isn', \"isn't\", 'ma', 'mightn', \"mightn't\", 'mustn',\\\n",
    "            \"mustn't\", 'needn', \"needn't\", 'shan', \"shan't\", 'shouldn', \"shouldn't\", 'wasn', \"wasn't\", 'weren', \"weren't\", \\\n",
    "            'won', \"won't\", 'wouldn', \"wouldn't\"])"
   ]
  },
  {
   "cell_type": "code",
   "execution_count": 22,
   "metadata": {},
   "outputs": [
    {
     "name": "stderr",
     "output_type": "stream",
     "text": [
      "100%|██████████| 364171/364171 [02:20<00:00, 2589.41it/s]\n"
     ]
    }
   ],
   "source": [
    "# Combining all the above stundents \n",
    "from tqdm import tqdm\n",
    "preprocessed_reviews = []\n",
    "# tqdm is for printing the status bar\n",
    "for sentance in tqdm(final['Text'].values):\n",
    "    sentance = re.sub(r\"http\\S+\", \"\", sentance)\n",
    "    sentance = BeautifulSoup(sentance, 'lxml').get_text()\n",
    "    sentance = decontracted(sentance)\n",
    "    sentance = re.sub(\"\\S*\\d\\S*\", \"\", sentance).strip()\n",
    "    sentance = re.sub('[^A-Za-z]+', ' ', sentance)\n",
    "    # https://gist.github.com/sebleier/554280\n",
    "    sentance = ' '.join(e.lower() for e in sentance.split() if e.lower() not in stopwords)\n",
    "    preprocessed_reviews.append(sentance.strip())"
   ]
  },
  {
   "cell_type": "code",
   "execution_count": 23,
   "metadata": {},
   "outputs": [
    {
     "data": {
      "text/plain": [
       "'great ingredients although chicken rather chicken broth thing not think belongs canola oil canola rapeseed not someting dog would ever find nature find rapeseed nature eat would poison today food industries convinced masses canola oil safe even better oil olive virgin coconut facts though say otherwise late poisonous figured way fix still like could better'"
      ]
     },
     "execution_count": 23,
     "metadata": {},
     "output_type": "execute_result"
    }
   ],
   "source": [
    "preprocessed_reviews[1500]"
   ]
  },
  {
   "cell_type": "markdown",
   "metadata": {},
   "source": [
    "<h2><font color='red'>[3.2] Preprocessing Review Summary</font></h2>"
   ]
  },
  {
   "cell_type": "code",
   "execution_count": 24,
   "metadata": {},
   "outputs": [
    {
     "name": "stderr",
     "output_type": "stream",
     "text": [
      "100%|██████████| 364171/364171 [00:08<00:00, 43860.74it/s]\n"
     ]
    }
   ],
   "source": [
    "## Similartly you can do preprocessing for review summary also.\n",
    "def concatenateSummaryWithText(str1, str2):\n",
    "    return str1 + ' ' + str2\n",
    "\n",
    "preprocessed_summary = []\n",
    "# tqdm is for printing the status bar\n",
    "for sentence in tqdm(final['Summary'].values):\n",
    "    sentence = re.sub(r\"http\\S+\", \"\", sentence)\n",
    "    #sentence = BeautifulSoup(sentence, 'lxml').get_text()\n",
    "    sentence = decontracted(sentence)\n",
    "    sentence = re.sub(\"\\S*\\d\\S*\", \"\", sentence).strip()\n",
    "    sentence = re.sub('[^A-Za-z]+', ' ', sentence)\n",
    "    # https://gist.github.com/sebleier/554280\n",
    "    sentence = ' '.join(e.lower() for e in sentence.split() if e.lower() not in stopwords)\n",
    "    preprocessed_summary.append(sentence.strip())\n",
    "    \n",
    "preprocessed_reviews = list(map(concatenateSummaryWithText, preprocessed_reviews, preprocessed_summary))\n",
    "final['CleanedText'] = preprocessed_reviews\n",
    "final['CleanedText'] = final['CleanedText'].astype('str')\n",
    "\n",
    "del preprocessed_reviews\n",
    "del preprocessed_summary\n",
    "del sorted_data\n",
    "del filtered_data"
   ]
  },
  {
   "cell_type": "markdown",
   "metadata": {},
   "source": [
    "# [4] Featurization"
   ]
  },
  {
   "cell_type": "markdown",
   "metadata": {},
   "source": [
    "## [4.1] BAG OF WORDS"
   ]
  },
  {
   "cell_type": "code",
   "execution_count": 25,
   "metadata": {},
   "outputs": [],
   "source": [
    "# #BoW\n",
    "# count_vect = CountVectorizer() #in scikit-learn\n",
    "# count_vect.fit(preprocessed_reviews)\n",
    "# print(\"some feature names \", count_vect.get_feature_names()[:10])\n",
    "# print('='*50)\n",
    "\n",
    "# final_counts = count_vect.transform(preprocessed_reviews)\n",
    "# print(\"the type of count vectorizer \",type(final_counts))\n",
    "# print(\"the shape of out text BOW vectorizer \",final_counts.get_shape())\n",
    "# print(\"the number of unique words \", final_counts.get_shape()[1])"
   ]
  },
  {
   "cell_type": "markdown",
   "metadata": {},
   "source": [
    "## [4.2] Bi-Grams and n-Grams."
   ]
  },
  {
   "cell_type": "code",
   "execution_count": 26,
   "metadata": {},
   "outputs": [],
   "source": [
    "# #bi-gram, tri-gram and n-gram\n",
    "\n",
    "# #removing stop words like \"not\" should be avoided before building n-grams\n",
    "# # count_vect = CountVectorizer(ngram_range=(1,2))\n",
    "# # please do read the CountVectorizer documentation http://scikit-learn.org/stable/modules/generated/sklearn.feature_extraction.text.CountVectorizer.html\n",
    "\n",
    "# # you can choose these numebrs min_df=10, max_features=5000, of your choice\n",
    "# count_vect = CountVectorizer(ngram_range=(1,2), min_df=10, max_features=5000)\n",
    "# final_bigram_counts = count_vect.fit_transform(preprocessed_reviews)\n",
    "# print(\"the type of count vectorizer \",type(final_bigram_counts))\n",
    "# print(\"the shape of out text BOW vectorizer \",final_bigram_counts.get_shape())\n",
    "# print(\"the number of unique words including both unigrams and bigrams \", final_bigram_counts.get_shape()[1])"
   ]
  },
  {
   "cell_type": "markdown",
   "metadata": {},
   "source": [
    "## [4.3] TF-IDF"
   ]
  },
  {
   "cell_type": "code",
   "execution_count": 32,
   "metadata": {},
   "outputs": [
    {
     "name": "stdout",
     "output_type": "stream",
     "text": [
      "Shape of Data after fitting : (250000, 11531)\n",
      "Some sample features(unique words in the corpus) ['aa', 'aback', 'abandon', 'abandoned', 'abdominal', 'ability', 'able', 'abroad', 'absence', 'absent']\n"
     ]
    }
   ],
   "source": [
    "#Using only 250k points\n",
    "min_final = final.sample(n=250000)\n",
    "\n",
    "x_train = min_final['CleanedText']\n",
    "\n",
    "tfidf_model = TfidfVectorizer(min_df=30)\n",
    "x_train_tfidf = tfidf_model.fit_transform(x_train)\n",
    "print(\"Shape of Data after fitting : {}\".format(x_train_tfidf.shape))\n",
    "print(\"Some sample features(unique words in the corpus)\",tfidf_model.get_feature_names()[0:10])"
   ]
  },
  {
   "cell_type": "markdown",
   "metadata": {},
   "source": [
    "## [4.4] Word2Vec"
   ]
  },
  {
   "cell_type": "code",
   "execution_count": null,
   "metadata": {},
   "outputs": [],
   "source": [
    "# # Train your own Word2Vec model using your own text corpus\n",
    "# i=0\n",
    "# list_of_sentance=[]\n",
    "# for sentance in preprocessed_reviews:\n",
    "#     list_of_sentance.append(sentance.split())"
   ]
  },
  {
   "cell_type": "code",
   "execution_count": null,
   "metadata": {
    "scrolled": true
   },
   "outputs": [],
   "source": [
    "# # Using Google News Word2Vectors\n",
    "\n",
    "# # in this project we are using a pretrained model by google\n",
    "# # its 3.3G file, once you load this into your memory \n",
    "# # it occupies ~9Gb, so please do this step only if you have >12G of ram\n",
    "# # we will provide a pickle file wich contains a dict , \n",
    "# # and it contains all our courpus words as keys and  model[word] as values\n",
    "# # To use this code-snippet, download \"GoogleNews-vectors-negative300.bin\" \n",
    "# # from https://drive.google.com/file/d/0B7XkCwpI5KDYNlNUTTlSS21pQmM/edit\n",
    "# # it's 1.9GB in size.\n",
    "\n",
    "\n",
    "# # http://kavita-ganesan.com/gensim-word2vec-tutorial-starter-code/#.W17SRFAzZPY\n",
    "# # you can comment this whole cell\n",
    "# # or change these varible according to your need\n",
    "\n",
    "# is_your_ram_gt_16g=False\n",
    "# want_to_use_google_w2v = False\n",
    "# want_to_train_w2v = True\n",
    "\n",
    "# if want_to_train_w2v:\n",
    "#     # min_count = 5 considers only words that occured atleast 5 times\n",
    "#     w2v_model=Word2Vec(list_of_sentance,min_count=5,size=50, workers=4)\n",
    "#     print(w2v_model.wv.most_similar('great'))\n",
    "#     print('='*50)\n",
    "#     print(w2v_model.wv.most_similar('worst'))\n",
    "    \n",
    "# elif want_to_use_google_w2v and is_your_ram_gt_16g:\n",
    "#     if os.path.isfile('GoogleNews-vectors-negative300.bin'):\n",
    "#         w2v_model=KeyedVectors.load_word2vec_format('GoogleNews-vectors-negative300.bin', binary=True)\n",
    "#         print(w2v_model.wv.most_similar('great'))\n",
    "#         print(w2v_model.wv.most_similar('worst'))\n",
    "#     else:\n",
    "#         print(\"you don't have gogole's word2vec file, keep want_to_train_w2v = True, to train your own w2v \")"
   ]
  },
  {
   "cell_type": "code",
   "execution_count": null,
   "metadata": {},
   "outputs": [],
   "source": [
    "# w2v_words = list(w2v_model.wv.vocab)\n",
    "# print(\"number of words that occured minimum 5 times \",len(w2v_words))\n",
    "# print(\"sample words \", w2v_words[0:50])"
   ]
  },
  {
   "cell_type": "markdown",
   "metadata": {},
   "source": [
    "## [4.4.1] Converting text into vectors using Avg W2V, TFIDF-W2V"
   ]
  },
  {
   "cell_type": "markdown",
   "metadata": {},
   "source": [
    "#### [4.4.1.1] Avg W2v"
   ]
  },
  {
   "cell_type": "code",
   "execution_count": null,
   "metadata": {},
   "outputs": [],
   "source": [
    "# # average Word2Vec\n",
    "# # compute average word2vec for each review.\n",
    "# sent_vectors = []; # the avg-w2v for each sentence/review is stored in this list\n",
    "# for sent in tqdm(list_of_sentance): # for each review/sentence\n",
    "#     sent_vec = np.zeros(50) # as word vectors are of zero length 50, you might need to change this to 300 if you use google's w2v\n",
    "#     cnt_words =0; # num of words with a valid vector in the sentence/review\n",
    "#     for word in sent: # for each word in a review/sentence\n",
    "#         if word in w2v_words:\n",
    "#             vec = w2v_model.wv[word]\n",
    "#             sent_vec += vec\n",
    "#             cnt_words += 1\n",
    "#     if cnt_words != 0:\n",
    "#         sent_vec /= cnt_words\n",
    "#     sent_vectors.append(sent_vec)\n",
    "# print(len(sent_vectors))\n",
    "# print(len(sent_vectors[0]))"
   ]
  },
  {
   "cell_type": "markdown",
   "metadata": {},
   "source": [
    "#### [4.4.1.2] TFIDF weighted W2v"
   ]
  },
  {
   "cell_type": "code",
   "execution_count": null,
   "metadata": {},
   "outputs": [],
   "source": [
    "# # S = [\"abc def pqr\", \"def def def abc\", \"pqr pqr def\"]\n",
    "# model = TfidfVectorizer()\n",
    "# tf_idf_matrix = model.fit_transform(preprocessed_reviews)\n",
    "# # we are converting a dictionary with word as a key, and the idf as a value\n",
    "# dictionary = dict(zip(model.get_feature_names(), list(model.idf_)))"
   ]
  },
  {
   "cell_type": "code",
   "execution_count": null,
   "metadata": {
    "scrolled": true
   },
   "outputs": [],
   "source": [
    "# # TF-IDF weighted Word2Vec\n",
    "# tfidf_feat = model.get_feature_names() # tfidf words/col-names\n",
    "# # final_tf_idf is the sparse matrix with row= sentence, col=word and cell_val = tfidf\n",
    "\n",
    "# tfidf_sent_vectors = []; # the tfidf-w2v for each sentence/review is stored in this list\n",
    "# row=0;\n",
    "# for sent in tqdm(list_of_sentance): # for each review/sentence \n",
    "#     sent_vec = np.zeros(50) # as word vectors are of zero length\n",
    "#     weight_sum =0; # num of words with a valid vector in the sentence/review\n",
    "#     for word in sent: # for each word in a review/sentence\n",
    "#         if word in w2v_words and word in tfidf_feat:\n",
    "#             vec = w2v_model.wv[word]\n",
    "# #             tf_idf = tf_idf_matrix[row, tfidf_feat.index(word)]\n",
    "#             # to reduce the computation we are \n",
    "#             # dictionary[word] = idf value of word in whole courpus\n",
    "#             # sent.count(word) = tf valeus of word in this review\n",
    "#             tf_idf = dictionary[word]*(sent.count(word)/len(sent))\n",
    "#             sent_vec += (vec * tf_idf)\n",
    "#             weight_sum += tf_idf\n",
    "#     if weight_sum != 0:\n",
    "#         sent_vec /= weight_sum\n",
    "#     tfidf_sent_vectors.append(sent_vec)\n",
    "#     row += 1"
   ]
  },
  {
   "cell_type": "markdown",
   "metadata": {},
   "source": [
    "# [5] Assignment 11: Truncated SVD"
   ]
  },
  {
   "cell_type": "markdown",
   "metadata": {},
   "source": [
    "<ol>\n",
    "    <li><strong>Apply Truncated-SVD on only this feature set:</strong>\n",
    "        <ul>\n",
    "            <li><font color='red'>SET 2:</font>Review text, preprocessed one converted into vectors using (TFIDF)</li>\n",
    "    <br>\n",
    "    <li><strong>Procedure:</strong>\n",
    "        <ul>\n",
    "    <li>Take top 2000 or 3000 features from tf-idf vectorizers using idf_ score.</li>\n",
    "    <li>You need to calculate the co-occurrence matrix with the selected features (Note: X.X^T\n",
    "doesn’t give the co-occurrence matrix, it returns the covariance matrix, check these\n",
    "        bolgs <a href='https://medium.com/data-science-group-iitr/word-embedding-2d05d270b285'>blog-1,</a> <a href='https://www.analyticsvidhya.com/blog/2017/06/word-embeddings-count-word2veec/'>blog-2 </a>for more information)</li>\n",
    "            <li>You should choose the n_components in truncated svd, with maximum explained\n",
    "variance. Please search on how to choose that and implement them. (hint: plot of\n",
    "cumulative explained variance ratio)</li>\n",
    "            <li>After you are done with the truncated svd, you can apply K-Means clustering and choose\n",
    "the best number of clusters based on elbow method.</li>\n",
    "            <li> Print out wordclouds for each cluster, similar to that in previous assignment. </li>\n",
    "            <li>You need to write a function that takes a word and returns the most similar words using\n",
    "cosine similarity between the vectors(vector: a row in the matrix after truncatedSVD)</li>\n",
    "        </ul>\n",
    "    </li>\n",
    "    <br>\n",
    "    \n",
    "</ol>"
   ]
  },
  {
   "cell_type": "markdown",
   "metadata": {},
   "source": [
    "## Truncated-SVD"
   ]
  },
  {
   "cell_type": "markdown",
   "metadata": {},
   "source": [
    "### [5.1] Taking top features from TFIDF,<font color='red'> SET 2</font>"
   ]
  },
  {
   "cell_type": "code",
   "execution_count": 33,
   "metadata": {},
   "outputs": [
    {
     "name": "stdout",
     "output_type": "stream",
     "text": [
      " # Printing the top 2500 features from the model.\n",
      "\n",
      "\n",
      "['abandon', 'accessories', 'accessory', 'activate', 'administer', 'admire', 'adopting', 'advocate', 'agreement', 'ahem', 'aint', 'ak', 'albertson', 'allergenic', 'arborio', 'archer', 'aromatics', 'artisana', 'asiago', 'augment', 'avenue', 'awaken', 'awareness', 'bargains', 'bassett', 'bazooka', 'blessings', 'blocked', 'booze', 'bore', 'brim', 'brisling', 'camera', 'careless', 'carte', 'caveats', 'chamber', 'charlee', 'chemotherapy', 'chocalate', 'coatings', 'completly', 'confectioners', 'convienient', 'cordial', 'cornucopia', 'corporations', 'cosco', 'counteract', 'crackle', 'cranky', 'creeping', 'crisis', 'cruelty', 'crumby', 'cumbersome', 'dances', 'dashes', 'dating', 'daytime', 'definetely', 'depicted', 'derivative', 'diglycerides', 'dim', 'disapointment', 'dissipate', 'distinguishable', 'diversity', 'doughnuts', 'doxie', 'dynamite', 'edward', 'eighteen', 'elastic', 'electricity', 'epa', 'eric', 'eureka', 'everyones', 'excuses', 'farro', 'fatal', 'females', 'filtration', 'flawed', 'flipping', 'foolproof', 'frightening', 'gains', 'gasp', 'gingersnaps', 'girlfriends', 'glop', 'gluey', 'goddess', 'groomer', 'hazardous', 'heeler', 'hehe', 'hops', 'hulled', 'improper', 'invoice', 'jade', 'jerkys', 'kaps', 'leaner', 'lessons', 'library', 'lightening', 'lizano', 'lorann', 'madness', 'malts', 'marginal', 'mariani', 'marvel', 'medaglia', 'mesa', 'messages', 'mgtotal', 'misrepresented', 'mocafe', 'mock', 'molly', 'mon', 'monk', 'murray', 'nancy', 'nectresse', 'notion', 'nutter', 'oaty', 'panang', 'parmigiano', 'parthenon', 'participate', 'pens', 'perfumey', 'perrins', 'pints', 'pittsburgh', 'porcelain', 'premature', 'premeasured', 'prizes', 'programs', 'psoriasis', 'pulse', 'ramune', 'rays', 'recipie', 'refresher', 'refunds', 'regime', 'repertoire', 'rescues', 'responding', 'rested', 'retreat', 'scales', 'scramble', 'seeming', 'seizure', 'seperately', 'serendipitea', 'sharpness', 'shelling', 'sifter', 'slogan', 'slop', 'smelt', 'snag', 'soreness', 'souper', 'sourcing', 'spree', 'squirting', 'stimulants', 'stolen', 'strive', 'stuffy', 'surpass', 'susan', 'sweetz', 'takeout', 'tandoori', 'telephone', 'testers', 'thawing', 'toppers', 'toughest', 'tourangelle', 'tout', 'translation', 'trucks', 'tums', 'ulcer', 'unrecognizable', 'unsatisfactory', 'uplifting', 'vacuumed', 'vegi', 'wallop', 'ware', 'warns', 'washer', 'weimaraner', 'whiter', 'winds', 'wolfs', 'woohoo', 'yeasty', 'zotz', 'acacia', 'addresses', 'adjustable', 'agility', 'aimed', 'alarmed', 'alleged', 'allsorts', 'angostura', 'announced', 'appointment', 'aromat', 'artic', 'asin', 'assembly', 'associates', 'astonishing', 'attraction', 'aunts', 'automated', 'basted', 'baths', 'batteries', 'behave', 'belts', 'bonne', 'bonnet', 'boxers', 'bred', 'bride', 'bruschetta', 'buggers', 'cadet', 'cakey', 'calculate', 'calmer', 'camomile', 'carcinogen', 'celebrity', 'ceremony', 'certificate', 'checkup', 'cheeks', 'cheesecakes', 'chief', 'chummies', 'cling', 'coax', 'coffeehouse', 'commodity', 'connecticut', 'contaminants', 'contaminate', 'coolers', 'copious', 'cosmetics', 'crammed', 'crime', 'crisped', 'crunches', 'curried', 'decline', 'defrosted', 'demise', 'deposits', 'distributes', 'doused', 'dreamy', 'dukan', 'eatting', 'edibles', 'eggy', 'enamel', 'escaped', 'examples', 'explosive', 'eyeballs', 'fatter', 'filtering', 'fixture', 'fooling', 'forehead', 'fourteen', 'frs', 'fulfillment', 'globe', 'gorilla', 'graininess', 'guinness', 'gulping', 'halva', 'handbag', 'heartedly', 'hempseed', 'herbals', 'hoisin', 'ibd', 'idiots', 'imitations', 'inappropriate', 'incorporates', 'intolerances', 'invert', 'irradiated', 'jamba', 'joining', 'kee', 'kg', 'klein', 'lessened', 'lifeless', 'livers', 'loathe', 'loop', 'lunchboxes', 'lyle', 'mai', 'mails', 'maman', 'maraschino', 'martha', 'matchas', 'maya', 'mays', 'mccanns', 'medal', 'metals', 'michaels', 'molecule', 'molecules', 'mona', 'mosquito', 'mung', 'needles', 'nevada', 'nibbled', 'norway', 'nothe', 'nutrional', 'objective', 'oder', 'palms', 'partners', 'penetrate', 'percentages', 'pinches', 'pleasent', 'politely', 'pomegranite', 'preschooler', 'pretending', 'principle', 'professionals', 'proflowers', 'props', 'pseudo', 'purposely', 'questioning', 'quietly', 'quirky', 'recommened', 'rehab', 'repel', 'reportedly', 'ron', 'rustic', 'ryvita', 'savior', 'shining', 'shoddy', 'shoved', 'sieve', 'sippy', 'slipping', 'smacks', 'smeared', 'smokes', 'smoothe', 'sneeze', 'snip', 'sock', 'splurged', 'starved', 'stretched', 'suds', 'surprized', 'sweaty', 'swings', 'swish', 'symptom', 'te', 'tellicherry', 'tha', 'threat', 'ti', 'timid', 'titled', 'tortellini', 'toxin', 'transfat', 'transferring', 'transplant', 'trepidation', 'triggered', 'tweaked', 'unreliable', 'unsuccessful', 'valve', 'vessel', 'victorian', 'viral', 'viscous', 'volcanic', 'volunteer', 'watkins', 'weirdly', 'whack', 'whisky', 'wildflower', 'xtra', 'yankee', 'yummers', 'zingy', 'aback', 'adobo', 'airlines', 'altering', 'amaze', 'amt', 'anal', 'austria', 'autolyzed', 'baffled', 'bald', 'beaver', 'bergamont', 'bible', 'cave', 'caved', 'chik', 'chimes', 'cockapoo', 'codes', 'cokes', 'composting', 'conference', 'considerations', 'corns', 'crawl', 'cries', 'crummy', 'cruz', 'curiously', 'cylinder', 'deficient', 'dehydrate', 'dehydrator', 'differing', 'distracting', 'dizzy', 'documented', 'doh', 'dual', 'dynamic', 'emerils', 'endorsed', 'eucalyptus', 'faucet', 'ferrous', 'flan', 'flavouring', 'florist', 'fragrances', 'freaks', 'freshens', 'fruitables', 'fundraiser', 'fungal', 'galore', 'generated', 'germs', 'gravel', 'heap', 'hideous', 'hunks', 'incomplete', 'independently', 'inflation', 'ingenious', 'ingrediant', 'inhales', 'internally', 'investigated', 'invisible', 'ironic', 'jammed', 'juiced', 'junkies', 'kcal', 'kiddo', 'kurig', 'lightest', 'loc', 'loin', 'loudly', 'lucked', 'luster', 'lysine', 'matzo', 'mickey', 'motivation', 'multipack', 'nesquik', 'nonexistent', 'nutritionists', 'nutritive', 'nw', 'omitted', 'org', 'outings', 'palak', 'pantene', 'perfumed', 'perimeter', 'portuguese', 'possess', 'potluck', 'preserving', 'radius', 'rant', 'reclosable', 'recommed', 'refridgerator', 'regarded', 'representation', 'reproduce', 'restroom', 'retrieve', 'reusing', 'revelation', 'riceselect', 'rigid', 'rj', 'sautee', 'scouts', 'seeping', 'selenite', 'shaft', 'shiney', 'shoprite', 'sided', 'silica', 'slowed', 'smucker', 'snuck', 'solidify', 'sporadically', 'spritz', 'squirted', 'stapled', 'steakhouse', 'superfoods', 'superfruit', 'suppliment', 'suppress', 'suppressant', 'swheat', 'ta', 'tac', 'tampered', 'tasks', 'tastiness', 'tastless', 'tester', 'ther', 'tires', 'tiring', 'tissues', 'toxicity', 'universally', 'unscented', 'upstairs', 'useable', 'vegetal', 'ventured', 'versitile', 'victim', 'vomits', 'waggin', 'waitress', 'wildlife', 'wu', 'wysong', 'ymmv', 'actuality', 'acv', 'aero', 'agriculture', 'aide', 'alimentum', 'arrange', 'assurance', 'beads', 'bleu', 'boast', 'brag', 'braggs', 'brightly', 'capresso', 'capuccino', 'carbers', 'carr', 'ceral', 'charts', 'chocofudge', 'choy', 'chugging', 'classico', 'classroom', 'clogs', 'collector', 'congealed', 'converts', 'crank', 'crossing', 'curled', 'decreases', 'decreasing', 'definitley', 'dial', 'dick', 'diedrich', 'director', 'diuretic', 'domatcha', 'dominating', 'downhill', 'downtown', 'draws', 'droste', 'drum', 'earthquake', 'encourages', 'esophagus', 'estrogen', 'ewww', 'featuring', 'ff', 'fingertips', 'flights', 'foams', 'forte', 'glenny', 'gobbling', 'grasses', 'gulped', 'halal', 'harissa', 'heaviness', 'honeydew', 'hood', 'hounds', 'hypoglycemic', 'inherent', 'injected', 'inquire', 'insulation', 'internationally', 'intolerable', 'invariably', 'invested', 'junior', 'kal', 'kup', 'labradoodle', 'lactic', 'lark', 'laughs', 'leans', 'legumes', 'loyalty', 'magnet', 'maria', 'marshmellows', 'milling', 'montreal', 'motto', 'mouthwash', 'mulling', 'nitrogen', 'nu', 'offices', 'peppermints', 'perforated', 'pestle', 'philosophy', 'photograph', 'pineapples', 'piquant', 'plagued', 'poached', 'pointless', 'pooped', 'potion', 'preventative', 'prey', 'qualita', 'rediculous', 'reflex', 'reggiano', 'religious', 'relying', 'resident', 'ross', 'scottie', 'shallots', 'shark', 'sheds', 'shiitake', 'shrunk', 'slathered', 'slimey', 'slivered', 'slump', 'snickerdoodles', 'spaniels', 'sparse', 'squeezable', 'stateside', 'steams', 'stimulation', 'stinger', 'striking', 'subsided', 'tanginess', 'tar', 'targeted', 'tempered', 'thankyou', 'thanx', 'toe', 'tucson', 'unfrosted', 'unrealistic', 'unsweet', 'utz', 'vacations', 'vain', 'variants', 'varity', 'vent', 'virus', 'visibly', 'wag', 'watches', 'werent', 'whisking', 'whomever', 'wimp', 'wretched', 'youre', 'yucateco', 'zippy', 'zola', 'zombie', 'acana', 'aftertastes', 'agency', 'apologies', 'appearing', 'averages', 'babyfood', 'baldwin', 'ballpark', 'basset', 'basting', 'bday', 'beauties', 'belize', 'blackstrap', 'blk', 'bogus', 'boycott', 'bubbling', 'caking', 'campus', 'carring', 'ceased', 'cement', 'cerelac', 'champion', 'cheek', 'cheerio', 'claws', 'clicked', 'cowboy', 'crawling', 'crinkle', 'darling', 'definitive', 'deny', 'disappointingly', 'dread', 'elevate', 'emotional', 'endure', 'exellent', 'explodes', 'fabulously', 'feathers', 'fiancee', 'flatten', 'forbidden', 'fresca', 'frills', 'glands', 'glee', 'gloppy', 'grained', 'grief', 'heels', 'humor', 'igourmet', 'inability', 'indifferent', 'indispensable', 'infusions', 'jerkies', 'juan', 'judgment', 'judy', 'keys', 'kopi', 'lasagne', 'leafs', 'limb', 'loosen', 'melinda', 'metabolic', 'metro', 'monitoring', 'monsters', 'moral', 'mound', 'mouthwatering', 'multiples', 'nest', 'nielsen', 'notify', 'objection', 'occassional', 'od', 'odorless', 'offense', 'oklahoma', 'oozing', 'orangey', 'orangina', 'orgran', 'oskri', 'overeating', 'ozs', 'pail', 'paramount', 'parm', 'payment', 'perky', 'petal', 'pickling', 'pinnacle', 'plunger', 'pluses', 'poisoned', 'poly', 'potpourri', 'pounder', 'pralines', 'prized', 'prominently', 'punched', 'quickest', 'rapunzel', 'rendering', 'restocking', 'reunion', 'ribbons', 'runts', 'scientists', 'scott', 'scrap', 'scratchy', 'shortcake', 'sideways', 'similarity', 'skill', 'slaw', 'snapper', 'sneaks', 'sofa', 'solofill', 'spiders', 'spiked', 'spiral', 'stickers', 'stoked', 'stranger', 'streets', 'styling', 'tease', 'thinning', 'transforms', 'transplanted', 'trimester', 'twig', 'unlucky', 'unmatched', 'unpronounceable', 'upc', 'viscosity', 'wedderspoon', 'welsh', 'wheaten', 'wool', 'wounds', 'yogurts', 'yummies', 'yunnan', 'acknowledge', 'andes', 'antioxidents', 'approximate', 'arsenal', 'astronaut', 'athletic', 'attending', 'aversion', 'awards', 'baklava', 'batman', 'beany', 'blanched', 'bleed', 'brains', 'brats', 'byproduct', 'capital', 'ceiling', 'centerpiece', 'challenges', 'chipolte', 'chorizo', 'ciders', 'comprised', 'continuous', 'copied', 'deduct', 'define', 'dentures', 'dies', 'disclosed', 'disolve', 'dispensed', 'displeased', 'disregard', 'drew', 'dumpling', 'dynasty', 'eboost', 'elaborate', 'elephant', 'embedded', 'esque', 'fart', 'flaxseeds', 'founder', 'fussiness', 'gentleman', 'gnc', 'goopy', 'goose', 'grating', 'greyhounds', 'harvesting', 'healthwise', 'honeyville', 'hop', 'ikea', 'imitate', 'iodized', 'jambalaya', 'jemima', 'jesus', 'knot', 'lansinoh', 'leash', 'li', 'lighten', 'lingered', 'lodge', 'logged', 'logical', 'loooove', 'lt', 'mahogany', 'marshalls', 'mentos', 'missouri', 'moo', 'morocco', 'muss', 'muy', 'myrtle', 'naughty', 'nite', 'nonni', 'omit', 'pal', 'pao', 'paso', 'patent', 'patented', 'powerbar', 'premixed', 'province', 'pulpy', 'purported', 'ralph', 'receiver', 'repurchasing', 'roca', 'romaine', 'rx', 'sangria', 'scarfing', 'scrubbing', 'sender', 'sheep', 'shooting', 'sinks', 'skunk', 'slot', 'spark', 'sparkly', 'strategy', 'subway', 'teff', 'thermal', 'thrived', 'ths', 'tipped', 'translucent', 'triscuits', 'tuscany', 'twix', 'uneaten', 'vender', 'vinci', 'warranty', 'werther', 'wi', 'winery', 'accents', 'affiliated', 'algae', 'amused', 'antonio', 'arrowroot', 'aseptic', 'attacked', 'autistic', 'ayurvedic', 'bartender', 'beagles', 'beam', 'bff', 'bigs', 'bisphenol', 'blu', 'canyon', 'carnivorous', 'chantea', 'chubby', 'cinammon', 'cinnabon', 'cities', 'classified', 'cosmic', 'creatures', 'critics', 'crowns', 'daisy', 'deleted', 'depressed', 'descent', 'disguised', 'drenched', 'estimation', 'examine', 'excellently', 'falsely', 'familia', 'fasting', 'feat', 'flaws', 'frappuccino', 'globs', 'glorified', 'gogo', 'groggy', 'hail', 'hardens', 'heady', 'hispanic', 'holly', 'hypoglycemia', 'idaho', 'infact', 'ingestion', 'investigation', 'jacked', 'jura', 'justified', 'korma', 'lable', 'leader', 'letdown', 'lickety', 'manually', 'marrow', 'massachusetts', 'massey', 'memphis', 'menadione', 'merit', 'murky', 'nada', 'netherlands', 'nod', 'nordic', 'numb', 'octopus', 'oiled', 'omelets', 'otc', 'piles', 'pitched', 'prefered', 'preheat', 'queso', 'rains', 'ranked', 'reflection', 'resolution', 'restocked', 'rv', 'sharper', 'shiba', 'shovel', 'smothered', 'spooned', 'steadily', 'stephen', 'stik', 'supplemental', 'suspended', 'swift', 'tangles', 'tannin', 'tarragon', 'thereof', 'tolerant', 'tomatos', 'tommy', 'torrone', 'transportation', 'tricked', 'trivedi', 'underwhelming', 'untill', 'volumes', 'waaay', 'waiter', 'wakame', 'wholly', 'william', 'woodsy', 'ziwipeak', 'addendum', 'adhere', 'adored', 'aesthetically', 'afterall', 'appetites', 'ara', 'arguably', 'argument', 'aspen', 'assembled', 'bandwagon', 'banged', 'barks', 'bleach', 'blockage', 'bm', 'boylan', 'bp', 'bulldogs', 'buttons', 'canines', 'capsaicin', 'carotene', 'charming', 'cherrybrook', 'chin', 'chunkier', 'circus', 'cleanings', 'concur', 'conducted', 'coolest', 'court', 'deception', 'defeat', 'ding', 'distinction', 'dop', 'dreaming', 'drippings', 'duke', 'dulce', 'egyptian', 'emptying', 'encouraging', 'evaporate', 'fad', 'flatter', 'fondarific', 'fought', 'frise', 'frito', 'gastro', 'gormet', 'grail', 'grandsons', 'greeted', 'grower', 'gustaf', 'hats', 'hotdog', 'hots', 'ignoring', 'intentionally', 'jac', 'jackpot', 'jose', 'lactation', 'leach', 'legally', 'lengthy', 'lighting', 'mfg', 'milkshakes', 'modifications', 'notches', 'obese', 'occassionally', 'omelet', 'orginal', 'outta', 'oval', 'overflowing', 'painless', 'passionfruit', 'passover', 'pbj', 'perception', 'pole', 'prayer', 'prepares', 'presently', 'prostate', 'pumkin', 'putrid', 'receipes', 'resturant', 'rethink', 'rotating', 'rushing', 'satiated', 'saucer', 'saucy', 'sauerkraut', 'scarce', 'scares', 'shades', 'shaving', 'shellfish', 'shore', 'sitter', 'slowing', 'smacking', 'specs', 'spinning', 'spoils', 'squish', 'stalk', 'stimulate', 'stockpile', 'stylish', 'surf', 'swig', 'sylvia', 'tao', 'tbls', 'teachers', 'teaspoonful', 'thanking', 'tickled', 'tidbits', 'tile', 'timothys', 'trimmed', 'tunnels', 'typo', 'understated', 'adhesive', 'ala', 'alarming', 'americolor', 'annies', 'annoyance', 'apso', 'arranged', 'aug', 'baconnaise', 'beaks', 'bha', 'bisquits', 'borders', 'bros', 'butterfinger', 'caffein', 'camano', 'captures', 'champions', 'charger', 'complications', 'controversy', 'courage', 'creature', 'dan', 'dashi', 'dawn', 'daybreak', 'dentastix', 'devine', 'dimensions', 'dispenses', 'dominates', 'downed', 'dreamed', 'drizzling', 'eatable', 'eb', 'education', 'es', 'ferrara', 'flawlessly', 'flips', 'fondue', 'gang', 'garam', 'genmai', 'germinate', 'gnocchi', 'gracious', 'graduated', 'griddle', 'handsome', 'hind', 'households', 'ignorance', 'ignorant', 'incomparable', 'infinitely', 'inquired', 'involving', 'joys', 'kava', 'kaviar', 'kellog', 'limeade', 'locks', 'lovin', 'mayonaise', 'mellows', 'moister', 'moisturizes', 'mtr', 'namely', 'nb', 'newbie', 'nickel', 'nutramigen', 'nutricity', 'nutshell', 'orchids', 'osmosis', 'overrated', 'overtone', 'oxide', 'pen', 'piggy', 'poking', 'primo', 'prob', 'puking', 'questioned', 'races', 'radio', 'rio', 'roastery', 'robusta', 'rod', 'roma', 'rooster', 'rottie', 'satisfyingly', 'screams', 'selenium', 'semisweet', 'sensations', 'shaky', 'slid', 'snickerdoodle', 'softening', 'soooooooo', 'sours', 'starkist', 'subjected', 'surfing', 'tenderness', 'torture', 'tullys', 'turbinado', 'twizzler', 'typed', 'unilever', 'venus', 'wad', 'warehouses', 'wilted', 'writer', 'acres', 'aficionados', 'ahh', 'applaud', 'aquired', 'assistance', 'barf', 'bargin', 'belongs', 'binder', 'blackened', 'blandness', 'braces', 'bulls', 'burp', 'cafes', 'carnival', 'carnivore', 'categories', 'characters', 'chardonnay', 'cheesecloth', 'chiclets', 'coarsely', 'colitis', 'complementary', 'crafted', 'customize', 'decor', 'dee', 'denver', 'drift', 'duds', 'educate', 'expeller', 'export', 'expose', 'fajita', 'ferrero', 'flair', 'floored', 'fo', 'freight', 'frothed', 'goop', 'gras', 'grooming', 'guayaki', 'hairs', 'hoard', 'hugger', 'hurray', 'improperly', 'infected', 'insufficient', 'juicer', 'juicing', 'kentucky', 'kicker', 'kix', 'liberal', 'lima', 'malic', 'meows', 'misery', 'misrepresentation', 'mississippi', 'mn', 'momma', 'monsanto', 'nastiest', 'notorious', 'nursery', 'optimistic', 'organisms', 'output', 'paella', 'painfully', 'palmer', 'pantothenate', 'paula', 'payed', 'peeps', 'po', 'poof', 'potter', 'predominantly', 'promotional', 'psychological', 'pumpernickel', 'rarity', 'readings', 'regretted', 'rejects', 'remedied', 'remnants', 'researchers', 'restful', 'reveals', 'rips', 'risky', 'rug', 'savannah', 'schnauzers', 'shady', 'sixteen', 'slender', 'spagetti', 'specialized', 'specials', 'spins', 'sporting', 'sprung', 'stake', 'statements', 'steroid', 'sting', 'stomache', 'substitutions', 'sundae', 'surfaces', 'tannic', 'tase', 'taxes', 'tempt', 'theyre', 'tier', 'tint', 'titanium', 'tomatoe', 'ty', 'umami', 'unpleasantly', 'valrhona', 'variable', 'vege', 'volumizing', 'votes', 'warheads', 'wavy', 'weapon', 'winners', 'woo', 'yakisoba', 'zatarain', 'zojirushi', 'absolutley', 'accommodate', 'albertsons', 'alessi', 'ammonia', 'apology', 'appreciative', 'arnold', 'astounded', 'attended', 'beginners', 'beige', 'bil', 'bjs', 'blank', 'bombs', 'bounty', 'brits', 'buckets', 'caffinated', 'canes', 'cedar', 'charities', 'clinical', 'coma', 'contributing', 'corks', 'creamiest', 'crispbreads', 'crud', 'deducted', 'differs', 'disney', 'dunked', 'durkee', 'echinacea', 'eg', 'elementary', 'equate', 'exceptions', 'farmed', 'fathers', 'fibre', 'fireballs', 'foolish', 'fowl', 'ganache', 'gee', 'genmaicha', 'grande', 'grounded', 'guts', 'heed', 'hog', 'honeycomb', 'hydrates', 'il', 'imaginable', 'inevitable', 'instances', 'intestine', 'jacket', 'kalamata', 'kay', 'knob', 'legit', 'llc', 'lure', 'mainland', 'masa', 'masking', 'mastered', 'merry', 'microwaves', 'misnomer', 'multivitamin', 'neglected', 'nips', 'overdose', 'pampered', 'perrier', 'pissed', 'plato', 'plethora', 'praised', 'precooked', 'productive', 'quoted', 'refunding', 'rhubarb', 'rome', 'rossa', 'russia', 'saddened', 'scarfs', 'scientist', 'silken', 'smidge', 'sniffs', 'solidified', 'sorbet', 'spillage', 'stingy', 'substandard', 'sulfites', 'sunkist', 'tendons', 'tlc', 'tropics', 'tumeric', 'twang', 'typhoo', 'undercooked', 'unsaturated', 'upped', 'veal', 'victoria', 'walgreen', 'winters', 'ziti', 'akita', 'amusing', 'apologized', 'approaches', 'aspirin', 'assortments', 'avocados', 'bai', 'ban', 'barrier', 'bhut', 'boba', 'booklet', 'bouts', 'broiled', 'cartoon', 'char', 'cleanest', 'coach', 'collected', 'complemented', 'concrete', 'consisting', 'creativity', 'creator', 'crunched', 'crunchie', 'cycles', 'deemed', 'desires', 'despise', 'dilemma', 'discussed', 'distract', 'distraction', 'ditto', 'downsides', 'drowsy', 'elk', 'elusive', 'emphasis', 'enought', 'evaluation', 'exploding', 'fd', 'filed', 'findings', 'flaking', 'flavorfull', 'forgetting', 'frys', 'fulls', 'generate', 'germinated', 'granddaughters', 'greatness', 'groats', 'grossed', 'hating', 'hockey', 'husk', 'hybrid', 'importing', 'indicator', 'indonesia', 'innocent', 'install', 'invite', 'jalape', 'knox', 'landfills', 'merits', 'multitude', 'northeast', 'notoriously', 'obtaining', 'offs', 'oriented', 'origins', 'overloaded', 'owning', 'oxidized', 'panicked', 'paperboard', 'pc', 'pointer', 'pores', 'pounce', 'preparations', 'ratios', 'rear', 'reccomended', 'redeeming', 'reed', 'registered', 'regulation', 'releasing', 'rendang', 'repackage', 'ricotta', 'rows', 'sarsaparilla', 'scheme', 'scraped', 'scraping', 'secured', 'seitan', 'slushy', 'soldiers', 'stewed', 'stuffs', 'subdued', 'sundried', 'swollen', 'ties', 'triangle', 'umm', 'uncertain', 'unscrew', 'utensils', 'vinturi', 'viola', 'wagon', 'whatnot', 'yearly', 'yolk', 'yummier', 'acted', 'adjustments', 'alkali', 'amateur', 'ann', 'ar', 'arthritic', 'assemble', 'bavarian', 'beggin', 'behalf', 'beleive', 'bile', 'bing', 'blackcurrant', 'bobs', 'brisk', 'bueno', 'bushes', 'cafix', 'calculated', 'calmed', 'cardio', 'carpets', 'cbtl', 'checkups', 'chomping', 'cinnamony', 'clarified', 'classics', 'cocaine', 'conclude', 'courtesy', 'crepe', 'curve', 'debbie', 'defects', 'deficiency', 'departure', 'depleted', 'disgustingly', 'downing', 'engine', 'est', 'examined', 'extraordinarily', 'forum', 'freshening', 'fromm', 'genetic', 'gr', 'greener', 'guarantees', 'hagen', 'hardwood', 'inconsistency', 'insurance', 'interactive', 'itty', 'kipper', 'krups', 'leathers', 'leathery', 'legitimate', 'lisa', 'locating', 'longtime', 'looses', 'mentally', 'mislabeled', 'moistness', 'mojitos', 'muted', 'ordinarily', 'ot', 'oxidation', 'pancreatitis', 'peices', 'pellet', 'pepperidge', 'persistent', 'philly', 'plugged', 'pocketbook', 'priceless', 'puerh', 'quibble', 'realm', 'retaining', 'retention', 'risen', 'romano', 'romantic', 'rooms', 'saco', 'sb', 'shallow', 'sleeps', 'sleeves', 'smarties', 'snacker', 'snake', 'sooth', 'spirals', 'sprayer', 'stamina', 'stare', 'stole', 'stripes', 'supplemented', 'sweden', 'tacky', 'tantalizing', 'thunder', 'translate', 'treasures', 'uber', 'uncovered', 'unfortunatly', 'vision', 'walkerswood', 'watt', 'waxed', 'weakest', 'weber', 'whining', 'width', 'willpower', 'adapted', 'airline', 'alabama', 'alway', 'anna', 'approached', 'aregular', 'attracts', 'baguette', 'beds', 'bellys', 'binge', 'blanc', 'boiler', 'boon', 'bothersome', 'broad', 'campfire', 'carcinogenic', 'cars', 'catalog', 'cecco', 'cheeze', 'chinatown', 'chowing', 'classify', 'clerk', 'convienent', 'cornflakes', 'curd', 'declined', 'diminish', 'discuss', 'disposed', 'dominated', 'duration', 'ea', 'echo', 'emergen', 'enables', 'enzymatic', 'farts', 'festival', 'flipped', 'frog', 'germination', 'gifting', 'graduate', 'greed', 'grin', 'healthiness', 'homegrown', 'honeysuckle', 'induce', 'informative', 'inhaling', 'inspect', 'israel', 'italiano', 'kennel', 'lakewood', 'lava', 'lever', 'liners', 'lit', 'lodged', 'managing', 'menstrual', 'metromint', 'milligrams', 'mimic', 'mobility', 'mochi', 'molds', 'notably', 'nuances', 'obedience', 'objectionable', 'occurrence', 'openings', 'oprah', 'pf', 'pointing', 'positives', 'potatos', 'praline', 'presume', 'profiles', 'proudly', 'refilled', 'regularity', 'relied', 'retails', 'roni', 'ruth', 'schools', 'scores', 'searches', 'shakers', 'shes', 'simultaneously', 'sin', 'slows', 'sobe', 'soccer', 'stepping', 'stewart', 'sunset', 'sustainably', 'teacup', 'technical', 'tedious', 'teenie', 'thistle', 'tracks', 'trendy', 'trusting', 'trusty', 'underlying', 'valerian', 'verbena', 'ward', 'welch', 'yamamotoyama', 'zhena', 'zoo', 'abandoned', 'accidents', 'adagio', 'adulterated', 'altho', 'barking', 'braided', 'bury', 'bus', 'captured', 'cardiovascular', 'cento', 'charlie', 'chocoholics', 'cholula', 'circulation', 'clubs', 'colleague', 'commands', 'commute', 'consensus', 'convient', 'crisco', 'curbs', 'darkness', 'demi', 'develops', 'disadvantage', 'dubble', 'ekobrew', 'exam', 'external', 'farming', 'ferment', 'flavorable', 'fluoride', 'founded', 'ft', 'gaggia', 'gauge', 'greased', 'gulps', 'gypsy', 'hankering', 'hives', 'holic', 'homeless', 'hong', 'hunter', 'hypertension', 'hypoallergenic', 'immunity', 'indonesian', 'insists', 'jealous', 'julia', 'ka', 'lackluster', 'lea', 'limitations', 'logic', 'lou', 'mangosteen', 'mas', 'milka', 'morton', 'nauseated', 'nerds', 'nestles', 'nipples', 'nuclear', 'nummy', 'nutri', 'obscure', 'partake', 'payday', 'pics', 'plague', 'pms', 'poland', 'pooches', 'potted', 'prickly', 'proclaimed', 'purists', 'quanity', 'rehydrated', 'sanity', 'scooper', 'secrets', 'sentence', 'shriveled', 'sojos', 'splitting', 'steaz', 'stumble', 'sums', 'supersaver', 'swap', 'swim', 'tahitian', 'tex', 'transformed', 'translates', 'tripe', 'ulcers', 'unclear', 'union', 'upstate', 'whirley', 'yolks', 'yummmy', 'actively', 'alzheimer', 'aminos', 'assessment', 'assist', 'bands', 'becasue', 'biotin', 'boulder', 'breville', 'cabernet', 'cc', 'chais', 'chestnut', 'closes', 'comfortably', 'continuously', 'coop', 'cultured', 'deaths', 'dept', 'destructive', 'devoid', 'dh', 'discussion', 'dishonest', 'disorder', 'disturbing', 'doctored', 'dole', 'doughnut', 'drawers', 'drooling', 'enthusiasts', 'epic', 'expanding', 'falafel', 'finland', 'fixes', 'flexibility', 'flows', 'frostings', 'funnel', 'gathered', 'glace', 'gnats', 'goals', 'goooood', 'gristle', 'handmade', 'hyped', 'income', 'incorporating', 'ineffective', 'iowa', 'joseph', 'laboratory', 'mackerel', 'males', 'markup', 'molars', 'nighttime', 'noises', 'notices', 'objects', 'omegas', 'originated', 'overeat', 'pooping', 'postal', 'posters', 'prolonged', 'pyrex', 'readers', 'relevant', 'repackaged', 'responses', 'rootbeer', 'rotisserie', 'sixth', 'skyline', 'slam', 'slurp', 'smarter', 'socially', 'softest', 'spider', 'spoken', 'sufferers', 'swing', 'teddy', 'threatening', 'thrill', 'treaters', 'trials', 'triglycerides', 'tune', 'unsatisfying', 'weaning', 'wf', 'wolfed', 'woof', 'abuse', 'adapt', 'administration', 'affair', 'antibacterial', 'aspertame', 'authenticity', 'bursts', 'cabin', 'cheapo', 'chilling', 'cluster', 'coffeemate', 'commissary', 'connected', 'consumes', 'convincing', 'crashing', 'critic', 'curing', 'defintely', 'difficulties', 'discernable', 'dive', 'fascinating', 'felidae', 'fermenting', 'fetch', 'fired', 'flakey', 'flawless', 'freedom', 'fund', 'fusilli', 'gooood', 'graphic', 'greenish', 'guinea', 'harshness', 'havoc', 'hobby', 'hooves', 'israeli', 'jus', 'kindly', 'lego', 'lest', 'listmania', 'madras', 'manly', 'meringue', 'misled', 'nailed', 'nozzle', 'outweigh', 'overlooked', 'peculiar', 'perfected', 'pocky', 'problematic', 'protects', 'pushes', 'refilling', 'refrigerating', 'respiratory', 'roommates', 'sause', 'sceptical', 'shabby', 'shares', 'slather', 'southeast', 'squeaky', 'stepped', 'stride', 'submitted', 'subtlety', 'supervise', 'swore', 'tacs', 'tale', 'television', 'thiamin', 'toned', 'topic', 'unreasonable', 'utah', 'uti', 'waaaay', 'wheel', 'yahoo', 'agreeable', 'ahhh', 'angelina', 'apt', 'backs', 'bakeries', 'belt', 'beneath', 'bloat', 'brighten', 'brit', 'broil', 'chondroitin', 'circular', 'climbing', 'clinic', 'collecting', 'composed', 'craze', 'crisper', 'defect', 'detergent', 'disgust', 'disorders', 'ditch', 'educated', 'escargot', 'fibrous', 'flag', 'fluctuate', 'freaked', 'fuji', 'gentlease', 'goood', 'guiltless', 'hamilton', 'hatch', 'hexane', 'inadequate', 'indestructible', 'intent', 'investing', 'jalepeno', 'jordan', 'kamut', 'lineup', 'liquidy', 'literature', 'lotta', 'lukewarm', 'luna', 'markers', 'masks', 'media', 'models', 'peruvian', 'phosphorus', 'pitchers', 'puncture', 'puzzled', 'reacted', 'receipe', 'remembers', 'resembled', 'retained', 'revised', 'ripened', 'rotini', 'saf', 'slime', 'someplace', 'speciality', 'spends', 'stong', 'strengthen', 'substitue', 'tags', 'talks', 'taller', 'teh']\n"
     ]
    }
   ],
   "source": [
    "# Get the feature names from TFIDF Model\n",
    "tfidf_features = tfidf_model.get_feature_names()\n",
    "\n",
    "# Fetch the idf scores from the model for each feature\n",
    "idf_scores = tfidf_model.idf_\n",
    "\n",
    "# Sort the array of (features, idf_ score) based on idf_score in descending manner\n",
    "value_zips = sorted(zip(tfidf_features, idf_scores), key=lambda tup: tup[1], reverse=True)\n",
    "\n",
    "# Take top 2500 features from the above zip\n",
    "top_threshold_value = 2500\n",
    "top_features = value_zips[:top_threshold_value]\n",
    "top_ft_values = list(map(lambda x: x[0], top_features))\n",
    "print(\" # Printing the top {} features from the model.\\n\\n\".format(top_threshold_value))\n",
    "print(top_ft_values)"
   ]
  },
  {
   "cell_type": "markdown",
   "metadata": {},
   "source": [
    "### [5.2] Calulation of Co-occurrence matrix"
   ]
  },
  {
   "cell_type": "code",
   "execution_count": 34,
   "metadata": {},
   "outputs": [
    {
     "name": "stderr",
     "output_type": "stream",
     "text": [
      "Building out Word Vectors: 100%|##########| 250000/250000 [00:03<00:00, 82716.48it/s] \n",
      "Building Co-occurrence Matrix: 100%|##########| 250000/250000 [12:35<00:00, 331.08it/s]\n"
     ]
    }
   ],
   "source": [
    "# Initializing the co-occurrence matrix with 0\n",
    "co_occ_matrix = np.zeros((top_threshold_value, top_threshold_value))\n",
    "\n",
    "# Building the word vectors\n",
    "li_word_vectors = []\n",
    "for review in tqdm(x_train, ascii=True, desc=\"Building out Word Vectors\"):\n",
    "    words = review.split(\" \")\n",
    "    li_word_vectors.append(words)\n",
    "    \n",
    "# Building Co-Occurrence Matrix\n",
    "for sentences in tqdm(li_word_vectors, ascii=True, desc=\"Building Co-occurrence Matrix\"):\n",
    "    for i in range(0, top_threshold_value):\n",
    "        feature_i = top_ft_values[i]\n",
    "        if feature_i in sentences:\n",
    "            for j in range(i+1, top_threshold_value):\n",
    "                feature_j = top_ft_values[j]\n",
    "\n",
    "                if i != j:\n",
    "                    count = co_occ_matrix[i][j]\n",
    "                    if feature_j in sentences:\n",
    "                        indices = [i for i, x in enumerate(sentences) if x == feature_i]\n",
    "                        for indc in indices:\n",
    "                            start = int(indc-5)\n",
    "                            end = int(indc+5)\n",
    "                            if start < 0:\n",
    "                                start = 0\n",
    "                            context_window_li = sentences[start: end]\n",
    "                            if feature_j in context_window_li:\n",
    "                                count += context_window_li.count(feature_j)\n",
    "                    co_occ_matrix[i][j] = int(count)\n",
    "                    co_occ_matrix[j][i] = int(count)"
   ]
  },
  {
   "cell_type": "markdown",
   "metadata": {},
   "source": [
    "### [5.3] Finding optimal value for number of components (n) to be retained."
   ]
  },
  {
   "cell_type": "code",
   "execution_count": 35,
   "metadata": {},
   "outputs": [
    {
     "data": {
      "text/plain": [
       "Text(0, 0.5, 'Cumulative Explained Variance')"
      ]
     },
     "execution_count": 35,
     "metadata": {},
     "output_type": "execute_result"
    },
    {
     "data": {
      "image/png": "[encoded data removed]",
      "text/plain": [
       "<Figure size 1296x360 with 1 Axes>"
      ]
     },
     "metadata": {},
     "output_type": "display_data"
    }
   ],
   "source": [
    "svd = TruncatedSVD(n_components=top_threshold_value-1, n_iter = 10, random_state=42)\n",
    "svd.fit(co_occ_matrix)\n",
    "\n",
    "plt.figure(figsize=(18, 5))\n",
    "plt.plot(np.cumsum(svd.explained_variance_ratio_))\n",
    "plt.grid()\n",
    "plt.xticks(np.arange(0, top_threshold_value, 100))\n",
    "plt.xlabel('Number of COMPONENTS')\n",
    "plt.ylabel('Cumulative Explained Variance')"
   ]
  },
  {
   "cell_type": "markdown",
   "metadata": {},
   "source": [
    "As we can observe, around 95% variance is explained if we select 900 number of components."
   ]
  },
  {
   "cell_type": "markdown",
   "metadata": {},
   "source": [
    "### [5.4] Applying k-means clustering"
   ]
  },
  {
   "cell_type": "code",
   "execution_count": 61,
   "metadata": {},
   "outputs": [],
   "source": [
    "svd_clf = TruncatedSVD(n_components=900, random_state=42)\n",
    "svd_opt = svd_clf.fit_transform(co_occ_matrix)"
   ]
  },
  {
   "cell_type": "code",
   "execution_count": 62,
   "metadata": {},
   "outputs": [
    {
     "name": "stderr",
     "output_type": "stream",
     "text": [
      "K-Means Clustering: 100%|##########| 10/10 [00:23<00:00,  3.11s/it]\n"
     ]
    },
    {
     "data": {
      "image/png": "[encoded data removed]",
      "text/plain": [
       "<Figure size 1296x360 with 1 Axes>"
      ]
     },
     "metadata": {},
     "output_type": "display_data"
    }
   ],
   "source": [
    "n_clusters = np.arange(1, 20, 2)\n",
    "save_interia_li = []\n",
    "\n",
    "for n_cl in tqdm(n_clusters, ascii=True, desc=\"K-Means Clustering\"):\n",
    "    clf = KMeans(n_clusters=n_cl, n_jobs=-1, random_state=42)\n",
    "    clf.fit(svd_opt)\n",
    "    save_interia_li.append(clf.inertia_)\n",
    "\n",
    "plt.close()\n",
    "plt.figure(figsize=(18, 5))\n",
    "plt.plot(n_clusters, save_interia_li)\n",
    "plt.title('K-Means plot of NumberOfClusters vs Inertia')\n",
    "plt.xlabel(\"Number of Clusters\")\n",
    "plt.ylabel(\"Inertia_\")\n",
    "plt.grid()\n",
    "plt.show()"
   ]
  },
  {
   "cell_type": "markdown",
   "metadata": {},
   "source": [
    "Using the elbow method, we select 9 optimal clusters to be built."
   ]
  },
  {
   "cell_type": "code",
   "execution_count": 63,
   "metadata": {},
   "outputs": [
    {
     "data": {
      "text/plain": [
       "KMeans(algorithm='auto', copy_x=True, init='k-means++', max_iter=300,\n",
       "    n_clusters=9, n_init=10, n_jobs=-1, precompute_distances='auto',\n",
       "    random_state=None, tol=0.0001, verbose=0)"
      ]
     },
     "execution_count": 63,
     "metadata": {},
     "output_type": "execute_result"
    }
   ],
   "source": [
    "optimal_k = 9\n",
    "k_clf = KMeans(n_clusters=optimal_k, n_jobs=-1)\n",
    "k_clf.fit(svd_opt)"
   ]
  },
  {
   "cell_type": "markdown",
   "metadata": {},
   "source": [
    "### [5.5] Wordclouds of clusters obtained in the above section"
   ]
  },
  {
   "cell_type": "code",
   "execution_count": 64,
   "metadata": {},
   "outputs": [],
   "source": [
    "cluster_labels = k_clf.labels_\n",
    "ft_indexes = [i for i in range(top_threshold_value)]\n",
    "dict_label_value = dict()\n",
    "for (key, val) in zip(cluster_labels, ft_indexes):\n",
    "    dict_label_value.setdefault(key, [])\n",
    "    dict_label_value[key].append(val)\n",
    "\n",
    "cluster_arr = []\n",
    "sorted_labels = sorted(list(set(cluster_labels)))\n",
    "for i in sorted_labels:\n",
    "    temp = []\n",
    "    for ft_ind in sorted(dict_label_value[i]):\n",
    "        temp.append(top_ft_values[ft_ind])\n",
    "    cluster_arr.append(temp)"
   ]
  },
  {
   "cell_type": "code",
   "execution_count": 65,
   "metadata": {},
   "outputs": [
    {
     "name": "stdout",
     "output_type": "stream",
     "text": [
      "Plotting 9 clusters\n"
     ]
    },
    {
     "data": {
      "image/png": "[encoded data removed]",
      "text/plain": [
       "<Figure size 864x1368 with 9 Axes>"
      ]
     },
     "metadata": {},
     "output_type": "display_data"
    }
   ],
   "source": [
    "#Reference - https://blog.goodaudience.com/how-to-generate-a-word-cloud-of-any-shape-in-python-7bce27a55f6e\n",
    "def generate_wordcloud(words):\n",
    "    word_cloud = WordCloud(background_color='black').generate(words)\n",
    "    return word_cloud\n",
    "\n",
    "\n",
    "print(\"Plotting {} clusters\".format(optimal_k))\n",
    "n_plots = int(list(map(sum, [divmod(optimal_k, 2)]))[0])+1\n",
    "plt.close()\n",
    "plt.figure(figsize=(12,19))\n",
    "for index, ft in enumerate(cluster_arr):\n",
    "    plt.subplot(n_plots,2,index+1)\n",
    "    plt.title(\"# Cluster: {}\".format(str(int(index)+1)))\n",
    "    wc = generate_wordcloud(' '.join(ft))\n",
    "    plt.axis('off')\n",
    "    plt.tight_layout(pad=0)\n",
    "    plt.imshow(wc)\n",
    "plt.show()"
   ]
  },
  {
   "cell_type": "markdown",
   "metadata": {},
   "source": [
    "### [5.6] Function that returns most similar words for a given word."
   ]
  },
  {
   "cell_type": "code",
   "execution_count": 67,
   "metadata": {},
   "outputs": [
    {
     "name": "stdout",
     "output_type": "stream",
     "text": [
      "Printing Similar Words of incomplete\n",
      "\n",
      "TOP 10 similar words to incomplete are -> ['fixes', 'whisky', 'cartoon', 'examined', 'blessings', 'fired', 'nummy', 'chiclets', 'nutter']\n"
     ]
    }
   ],
   "source": [
    "def compute_most_similar_words(word, n):\n",
    "    similarity_matrix = cosine_similarity(svd_opt)\n",
    "    vector = similarity_matrix[top_ft_values.index(word)]\n",
    "    sorted_ind = vector.argsort()[::-1][1:n]\n",
    "    similar_words = []\n",
    "    for ind in sorted_ind:\n",
    "        similar_words.append(top_ft_values[ind])\n",
    "    return similar_words\n",
    "\n",
    "word_inp = top_ft_values[500]\n",
    "no_of_similar_words_to_compute = 10\n",
    "print(\"Printing Similar Words of {}\".format(word_inp))\n",
    "\n",
    "sm_words = compute_most_similar_words(word_inp, no_of_similar_words_to_compute)\n",
    "print(\"\\nTOP {} similar words to {} are -> {}\".format(no_of_similar_words_to_compute, word_inp, sm_words))"
   ]
  },
  {
   "cell_type": "markdown",
   "metadata": {},
   "source": [
    "# [6] Conclusions"
   ]
  },
  {
   "cell_type": "markdown",
   "metadata": {},
   "source": [
    "* About 250k reviews from the amazon fine food reviews dataset were taken for the analysis.\n",
    "* Then these reviews were converted to a matrix of TFIDF features using TFIDFVectorizer in sklearn. However, a condition was applied while vectorizing that min_df to be 30 which in turn ignored some words who appeared less than 30 times. Just to make the vectorized vocabulary rich.\n",
    "* After vectorization, 2500 top features were taken from the TFIDF Vectorized model using idf_ score.\n",
    "* Then, co-occurence matrix was built on those 2500 top features.\n",
    "* Using the cummulative plot for explained variance, we observed that **around 95% of variance was explained by around _900 number of components_ using TruncatedSVD**.\n",
    "* KMeans clustering algorithm was applied on the truncated matrix and using the elbow method, **optimal number of clusters selected were 9**.\n",
    "* Then, Wordclouds were built on those 9 clusters.\n",
    "* Lastly, a function which would return us similar words to a word. In this, cosine similarity was applied to the truncated matrix to find out the similar words."
   ]
  }
 ],
 "metadata": {
  "kernelspec": {
   "display_name": "Python 3",
   "language": "python",
   "name": "python3"
  },
  "language_info": {
   "codemirror_mode": {
    "name": "ipython",
    "version": 3
   },
   "file_extension": ".py",
   "mimetype": "text/x-python",
   "name": "python",
   "nbconvert_exporter": "python",
   "pygments_lexer": "ipython3",
   "version": "3.7.0"
  }
 },
 "nbformat": 4,
 "nbformat_minor": 1
}
